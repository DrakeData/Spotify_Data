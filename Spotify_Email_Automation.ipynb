{
 "cells": [
  {
   "cell_type": "markdown",
   "metadata": {},
   "source": [
    "## Helpful Links\n",
    "- Create New [GMail Account](https://accounts.google.com/signup)\n",
    "- Turn [Allow less secure apps to ON](https://myaccount.google.com/lesssecureapps)\n",
    "- [Text to HTML](https://wordtohtml.net/)"
   ]
  },
  {
   "cell_type": "code",
   "execution_count": 55,
   "metadata": {},
   "outputs": [],
   "source": [
    "import config\n",
    "import smtplib, ssl\n",
    "from email.mime.text import MIMEText\n",
    "from email.mime.multipart import MIMEMultipart\n",
    "from time import strftime\n",
    "import datetime\n",
    "import pandas as pd\n",
    "import pandas_gbq\n",
    "from google.oauth2 import service_account\n",
    "from spotipy.oauth2 import SpotifyClientCredentials\n",
    "import spotipy.util as util\n",
    "import json\n",
    "import requests"
   ]
  },
  {
   "cell_type": "code",
   "execution_count": 47,
   "metadata": {},
   "outputs": [],
   "source": [
    "credentials = service_account.Credentials.from_service_account_file(\n",
    "    r'/Users/Nicholas/Desktop/GCP/GCP_Keys/spotify-project-287802-e5e6c43e8ecb.json'\n",
    ")\n",
    "\n",
    "client_id = config.client_id\n",
    "client_secret = config.client_secret\n",
    "username = config.username"
   ]
  },
  {
   "cell_type": "markdown",
   "metadata": {},
   "source": [
    "## Basic Info"
   ]
  },
  {
   "cell_type": "code",
   "execution_count": 44,
   "metadata": {},
   "outputs": [],
   "source": [
    "# user name\n",
    "username = 'Nick'\n",
    "#current year\n",
    "current_year = datetime.date.today().year\n",
    "# current month\n",
    "current_month = strftime('%B')"
   ]
  },
  {
   "cell_type": "markdown",
   "metadata": {},
   "source": [
    "## Track Info"
   ]
  },
  {
   "cell_type": "code",
   "execution_count": 25,
   "metadata": {},
   "outputs": [
    {
     "name": "stderr",
     "output_type": "stream",
     "text": [
      "Downloading: 100%|██████████| 771/771 [00:00<00:00, 1493.99rows/s]\n"
     ]
    },
    {
     "data": {
      "text/html": [
       "<div>\n",
       "<style scoped>\n",
       "    .dataframe tbody tr th:only-of-type {\n",
       "        vertical-align: middle;\n",
       "    }\n",
       "\n",
       "    .dataframe tbody tr th {\n",
       "        vertical-align: top;\n",
       "    }\n",
       "\n",
       "    .dataframe thead th {\n",
       "        text-align: right;\n",
       "    }\n",
       "</style>\n",
       "<table border=\"1\" class=\"dataframe\">\n",
       "  <thead>\n",
       "    <tr style=\"text-align: right;\">\n",
       "      <th></th>\n",
       "      <th>track_id</th>\n",
       "      <th>album_id</th>\n",
       "      <th>artist_id</th>\n",
       "      <th>track_name</th>\n",
       "      <th>artist_name</th>\n",
       "      <th>album_name</th>\n",
       "      <th>track_popularity</th>\n",
       "      <th>time_palyed</th>\n",
       "      <th>local_time</th>\n",
       "      <th>danceability</th>\n",
       "      <th>...</th>\n",
       "      <th>track_href</th>\n",
       "      <th>analysis_url</th>\n",
       "      <th>duration_ms</th>\n",
       "      <th>time_signature</th>\n",
       "      <th>track_duration</th>\n",
       "      <th>artist_id_1</th>\n",
       "      <th>artist_followers</th>\n",
       "      <th>artist_genres</th>\n",
       "      <th>artist_name_1</th>\n",
       "      <th>artist_popularity</th>\n",
       "    </tr>\n",
       "  </thead>\n",
       "  <tbody>\n",
       "    <tr>\n",
       "      <th>0</th>\n",
       "      <td>09akcdeCiV2jIl6x9WpmxA</td>\n",
       "      <td>0tF6XGxRVTrKfnC0UGlTAT</td>\n",
       "      <td>4KJ6jujcNPzOyhdNoiNftp</td>\n",
       "      <td>don't worry, you will</td>\n",
       "      <td>lovelytheband</td>\n",
       "      <td>everything i could never say...</td>\n",
       "      <td>56</td>\n",
       "      <td>2020-11-20T16:16:51.943Z</td>\n",
       "      <td>2020-11-20 10:16:51</td>\n",
       "      <td>0.751</td>\n",
       "      <td>...</td>\n",
       "      <td>https://api.spotify.com/v1/tracks/09akcdeCiV2j...</td>\n",
       "      <td>https://api.spotify.com/v1/audio-analysis/09ak...</td>\n",
       "      <td>197000</td>\n",
       "      <td>4</td>\n",
       "      <td>00:03:17</td>\n",
       "      <td>4KJ6jujcNPzOyhdNoiNftp</td>\n",
       "      <td>273057</td>\n",
       "      <td>indie pop</td>\n",
       "      <td>lovelytheband</td>\n",
       "      <td>68</td>\n",
       "    </tr>\n",
       "    <tr>\n",
       "      <th>1</th>\n",
       "      <td>4sNG6zQBmtq7M8aeeKJRMQ</td>\n",
       "      <td>3HJiLDJgWA9Z0MvCxlzHYQ</td>\n",
       "      <td>2D4FOOOtWycb3Aw9nY5n3c</td>\n",
       "      <td>Brazil</td>\n",
       "      <td>Declan McKenna</td>\n",
       "      <td>What Do You Think About the Car?</td>\n",
       "      <td>73</td>\n",
       "      <td>2020-11-20T05:20:11.691Z</td>\n",
       "      <td>2020-11-19 23:20:11</td>\n",
       "      <td>0.687</td>\n",
       "      <td>...</td>\n",
       "      <td>https://api.spotify.com/v1/tracks/4sNG6zQBmtq7...</td>\n",
       "      <td>https://api.spotify.com/v1/audio-analysis/4sNG...</td>\n",
       "      <td>252307</td>\n",
       "      <td>4</td>\n",
       "      <td>00:04:12</td>\n",
       "      <td>2D4FOOOtWycb3Aw9nY5n3c</td>\n",
       "      <td>610634</td>\n",
       "      <td>indie pop</td>\n",
       "      <td>Declan McKenna</td>\n",
       "      <td>71</td>\n",
       "    </tr>\n",
       "    <tr>\n",
       "      <th>2</th>\n",
       "      <td>0U3u0HdRQjD8mAMYBak4Ok</td>\n",
       "      <td>1x8SKoPwUTpOfc0w5gBPsk</td>\n",
       "      <td>3IunaFjvNKj98JW89JYv9u</td>\n",
       "      <td>Saw You In A Dream</td>\n",
       "      <td>The Japanese House</td>\n",
       "      <td>Saw You In A Dream</td>\n",
       "      <td>65</td>\n",
       "      <td>2020-11-20T04:35:44.553Z</td>\n",
       "      <td>2020-11-19 22:35:44</td>\n",
       "      <td>0.607</td>\n",
       "      <td>...</td>\n",
       "      <td>https://api.spotify.com/v1/tracks/0U3u0HdRQjD8...</td>\n",
       "      <td>https://api.spotify.com/v1/audio-analysis/0U3u...</td>\n",
       "      <td>208280</td>\n",
       "      <td>4</td>\n",
       "      <td>00:03:28</td>\n",
       "      <td>3IunaFjvNKj98JW89JYv9u</td>\n",
       "      <td>417760</td>\n",
       "      <td>art pop</td>\n",
       "      <td>The Japanese House</td>\n",
       "      <td>67</td>\n",
       "    </tr>\n",
       "    <tr>\n",
       "      <th>3</th>\n",
       "      <td>0X5mtNbqxbiTYkwj0CQc2f</td>\n",
       "      <td>3Z62dgkhjWCfLeZ8v9p2Td</td>\n",
       "      <td>0ZxZlO7oWCSYMXhehpyMvE</td>\n",
       "      <td>Crash My Car</td>\n",
       "      <td>COIN</td>\n",
       "      <td>Dreamland</td>\n",
       "      <td>71</td>\n",
       "      <td>2020-11-19T14:44:28.426Z</td>\n",
       "      <td>2020-11-19 08:44:28</td>\n",
       "      <td>0.244</td>\n",
       "      <td>...</td>\n",
       "      <td>https://api.spotify.com/v1/tracks/0X5mtNbqxbiT...</td>\n",
       "      <td>https://api.spotify.com/v1/audio-analysis/0X5m...</td>\n",
       "      <td>188307</td>\n",
       "      <td>5</td>\n",
       "      <td>00:03:08</td>\n",
       "      <td>0ZxZlO7oWCSYMXhehpyMvE</td>\n",
       "      <td>348344</td>\n",
       "      <td>indie pop</td>\n",
       "      <td>COIN</td>\n",
       "      <td>72</td>\n",
       "    </tr>\n",
       "    <tr>\n",
       "      <th>4</th>\n",
       "      <td>0X5mtNbqxbiTYkwj0CQc2f</td>\n",
       "      <td>3Z62dgkhjWCfLeZ8v9p2Td</td>\n",
       "      <td>0ZxZlO7oWCSYMXhehpyMvE</td>\n",
       "      <td>Crash My Car</td>\n",
       "      <td>COIN</td>\n",
       "      <td>Dreamland</td>\n",
       "      <td>71</td>\n",
       "      <td>2020-11-19T13:21:54.126Z</td>\n",
       "      <td>2020-11-19 07:21:54</td>\n",
       "      <td>0.244</td>\n",
       "      <td>...</td>\n",
       "      <td>https://api.spotify.com/v1/tracks/0X5mtNbqxbiT...</td>\n",
       "      <td>https://api.spotify.com/v1/audio-analysis/0X5m...</td>\n",
       "      <td>188307</td>\n",
       "      <td>5</td>\n",
       "      <td>00:03:08</td>\n",
       "      <td>0ZxZlO7oWCSYMXhehpyMvE</td>\n",
       "      <td>348344</td>\n",
       "      <td>indie pop</td>\n",
       "      <td>COIN</td>\n",
       "      <td>72</td>\n",
       "    </tr>\n",
       "  </tbody>\n",
       "</table>\n",
       "<p>5 rows × 33 columns</p>\n",
       "</div>"
      ],
      "text/plain": [
       "                 track_id                album_id               artist_id  \\\n",
       "0  09akcdeCiV2jIl6x9WpmxA  0tF6XGxRVTrKfnC0UGlTAT  4KJ6jujcNPzOyhdNoiNftp   \n",
       "1  4sNG6zQBmtq7M8aeeKJRMQ  3HJiLDJgWA9Z0MvCxlzHYQ  2D4FOOOtWycb3Aw9nY5n3c   \n",
       "2  0U3u0HdRQjD8mAMYBak4Ok  1x8SKoPwUTpOfc0w5gBPsk  3IunaFjvNKj98JW89JYv9u   \n",
       "3  0X5mtNbqxbiTYkwj0CQc2f  3Z62dgkhjWCfLeZ8v9p2Td  0ZxZlO7oWCSYMXhehpyMvE   \n",
       "4  0X5mtNbqxbiTYkwj0CQc2f  3Z62dgkhjWCfLeZ8v9p2Td  0ZxZlO7oWCSYMXhehpyMvE   \n",
       "\n",
       "              track_name         artist_name  \\\n",
       "0  don't worry, you will       lovelytheband   \n",
       "1                 Brazil      Declan McKenna   \n",
       "2     Saw You In A Dream  The Japanese House   \n",
       "3           Crash My Car                COIN   \n",
       "4           Crash My Car                COIN   \n",
       "\n",
       "                         album_name  track_popularity  \\\n",
       "0   everything i could never say...                56   \n",
       "1  What Do You Think About the Car?                73   \n",
       "2                Saw You In A Dream                65   \n",
       "3                         Dreamland                71   \n",
       "4                         Dreamland                71   \n",
       "\n",
       "                time_palyed           local_time  danceability  ...  \\\n",
       "0  2020-11-20T16:16:51.943Z  2020-11-20 10:16:51         0.751  ...   \n",
       "1  2020-11-20T05:20:11.691Z  2020-11-19 23:20:11         0.687  ...   \n",
       "2  2020-11-20T04:35:44.553Z  2020-11-19 22:35:44         0.607  ...   \n",
       "3  2020-11-19T14:44:28.426Z  2020-11-19 08:44:28         0.244  ...   \n",
       "4  2020-11-19T13:21:54.126Z  2020-11-19 07:21:54         0.244  ...   \n",
       "\n",
       "                                          track_href  \\\n",
       "0  https://api.spotify.com/v1/tracks/09akcdeCiV2j...   \n",
       "1  https://api.spotify.com/v1/tracks/4sNG6zQBmtq7...   \n",
       "2  https://api.spotify.com/v1/tracks/0U3u0HdRQjD8...   \n",
       "3  https://api.spotify.com/v1/tracks/0X5mtNbqxbiT...   \n",
       "4  https://api.spotify.com/v1/tracks/0X5mtNbqxbiT...   \n",
       "\n",
       "                                        analysis_url  duration_ms  \\\n",
       "0  https://api.spotify.com/v1/audio-analysis/09ak...       197000   \n",
       "1  https://api.spotify.com/v1/audio-analysis/4sNG...       252307   \n",
       "2  https://api.spotify.com/v1/audio-analysis/0U3u...       208280   \n",
       "3  https://api.spotify.com/v1/audio-analysis/0X5m...       188307   \n",
       "4  https://api.spotify.com/v1/audio-analysis/0X5m...       188307   \n",
       "\n",
       "  time_signature  track_duration             artist_id_1  artist_followers  \\\n",
       "0              4        00:03:17  4KJ6jujcNPzOyhdNoiNftp            273057   \n",
       "1              4        00:04:12  2D4FOOOtWycb3Aw9nY5n3c            610634   \n",
       "2              4        00:03:28  3IunaFjvNKj98JW89JYv9u            417760   \n",
       "3              5        00:03:08  0ZxZlO7oWCSYMXhehpyMvE            348344   \n",
       "4              5        00:03:08  0ZxZlO7oWCSYMXhehpyMvE            348344   \n",
       "\n",
       "   artist_genres       artist_name_1  artist_popularity  \n",
       "0      indie pop       lovelytheband                 68  \n",
       "1      indie pop      Declan McKenna                 71  \n",
       "2        art pop  The Japanese House                 67  \n",
       "3      indie pop                COIN                 72  \n",
       "4      indie pop                COIN                 72  \n",
       "\n",
       "[5 rows x 33 columns]"
      ]
     },
     "execution_count": 25,
     "metadata": {},
     "output_type": "execute_result"
    }
   ],
   "source": [
    "# Query GCP BQ for track duration\n",
    "\n",
    "project_id = \"spotify-project-287802\"\n",
    "\n",
    "sql = \"\"\"\n",
    "SELECT rpt.*\n",
    "    , td.*\n",
    "    , ad.*\n",
    "FROM `spotify-project-287802.spotify_api.recently_played_tracks` AS rpt\n",
    "INNER JOIN `spotify-project-287802.spotify_api.track_data` AS td\n",
    "  ON td.track_id = rpt.track_id\n",
    "INNER JOIN `spotify-project-287802.spotify_api.artist_data` AS ad\n",
    "  ON ad.artist_id = rpt.artist_id\n",
    "WHERE CAST(CAST(rpt.local_time AS TIMESTAMP) AS DATE) >= DATE_SUB(CURRENT_DATE(), INTERVAL 30 DAY)\n",
    "ORDER BY rpt.local_time DESC\n",
    "\"\"\"\n",
    "# Load table into df\n",
    "bq_df = pandas_gbq.read_gbq(sql, project_id=project_id, credentials=credentials)\n",
    "\n",
    "bq_df.head()"
   ]
  },
  {
   "cell_type": "markdown",
   "metadata": {},
   "source": [
    "### Track play count sum"
   ]
  },
  {
   "cell_type": "code",
   "execution_count": 30,
   "metadata": {},
   "outputs": [],
   "source": [
    "sum_duration_ms = bq_df['duration_ms'].sum()\n",
    "millis = sum_duration_ms\n",
    "millis = int(millis)\n",
    "\n",
    "def convert_from_ms(milliseconds): \n",
    "    seconds, milliseconds = divmod(milliseconds,1000) \n",
    "    minutes, seconds = divmod(seconds, 60) \n",
    "    hours, minutes = divmod(minutes, 60) \n",
    "    days, hours = divmod(hours, 24) \n",
    "    seconds = seconds + milliseconds/1000 \n",
    "    return days, hours, minutes, seconds \n",
    " \n",
    "sum_time = convert_from_ms(millis)\n",
    "days = sum_time[0]\n",
    "hours = sum_time[1]\n",
    "minutes = sum_time[2]\n",
    "seconds = sum_time[3]"
   ]
  },
  {
   "cell_type": "markdown",
   "metadata": {},
   "source": [
    "### Count of major/minor"
   ]
  },
  {
   "cell_type": "code",
   "execution_count": 38,
   "metadata": {},
   "outputs": [
    {
     "name": "stdout",
     "output_type": "stream",
     "text": [
      "Keep the good vibes going!\n"
     ]
    }
   ],
   "source": [
    "mode_check = bq_df.groupby('mode')['track_id'].nunique()\n",
    "mode_major_count = mode_check[0]\n",
    "mode_minor_count = mode_check[1]\n",
    "\n",
    "if mode_minor_count > mode_major_count:\n",
    "    message1 = \"Who hurt you?\"\n",
    "else:\n",
    "    message1 = \"Keep the good vibes going!\"\n",
    "\n",
    "print(message1)"
   ]
  },
  {
   "cell_type": "markdown",
   "metadata": {},
   "source": [
    "### Average popularity"
   ]
  },
  {
   "cell_type": "code",
   "execution_count": 41,
   "metadata": {},
   "outputs": [
    {
     "data": {
      "text/plain": [
       "57.0"
      ]
     },
     "execution_count": 41,
     "metadata": {},
     "output_type": "execute_result"
    }
   ],
   "source": [
    "ave_pop_score = round(bq_df['track_popularity'].mean())\n",
    "ave_pop_score"
   ]
  },
  {
   "cell_type": "code",
   "execution_count": 42,
   "metadata": {},
   "outputs": [
    {
     "name": "stdout",
     "output_type": "stream",
     "text": [
      "A perfect balance of what's hip and what's new.\n"
     ]
    }
   ],
   "source": [
    "if ave_pop_score >= 90:\n",
    "    message2 = \"Do you only listen to singles on the radio?\"\n",
    "elif 70 <= ave_pop_score < 90 :\n",
    "    message2 = \"You must be new to exploring new music.\"\n",
    "elif 50 <= ave_pop_score < 70:\n",
    "    message2 = \"A perfect balance of what's hip and what's new.\"\n",
    "elif 10 <= ave_pop_score < 50:\n",
    "    message2 = \"You must be a hipster with all this under-the-radar tracks.\"\n",
    "elif ave_pop_score < 10:\n",
    "    message2 = \"You're off the grid in your music taste, what are you listening to??\"\n",
    "\n",
    "print(message2)"
   ]
  },
  {
   "cell_type": "markdown",
   "metadata": {},
   "source": [
    "### Playlist Image"
   ]
  },
  {
   "cell_type": "code",
   "execution_count": 51,
   "metadata": {},
   "outputs": [],
   "source": [
    "username = config.username\n",
    "client_id = config.client_id\n",
    "client_secret = config.client_secret\n",
    "redirect_uri = 'http://localhost:7777/callback'\n",
    "scope = 'playlist-read-collaborative, playlist-read-private, playlist-modify-public, playlist-modify-private'\n",
    "\n",
    "auth_token = util.prompt_for_user_token(username=username, \n",
    "                                   scope=scope, \n",
    "                                   client_id=client_id,   \n",
    "                                   client_secret=client_secret,     \n",
    "                                   redirect_uri=redirect_uri)"
   ]
  },
  {
   "cell_type": "code",
   "execution_count": 60,
   "metadata": {},
   "outputs": [
    {
     "data": {
      "text/plain": [
       "'https://mosaic.scdn.co/300/ab67616d0000b2737636e1c9e67eaafc9f49aefdab67616d0000b27395f754318336a07e85ec59bcab67616d0000b273ab2f8973949159695f65df7bab67616d0000b273ccd63af052f7e438c05f6c94'"
      ]
     },
     "execution_count": 60,
     "metadata": {},
     "output_type": "execute_result"
    }
   ],
   "source": [
    "base_url = 'https://api.spotify.com/v1/playlists/79tXL4BD7MnqvpMZtKDho9/images'\n",
    "#playlist_id = '79tXL4BD7MnqvpMZtKDho9'\n",
    "\n",
    "#2. Authentication\n",
    "#3. Parameters -- would be stored with authentication\n",
    "headers = {\n",
    "    \"Authorization\": f\"Bearer {auth_token}\"\n",
    "}\n",
    "\n",
    "#4. Create an empty list\n",
    "playlist_image = [] #would be good explore how to capture data at different points in time\n",
    "r = requests.get(base_url, headers=headers)\n",
    "playlist_image.append(json.loads(r.text))\n",
    "\n",
    "image = playlist_image[0][1]['url']"
   ]
  },
  {
   "cell_type": "code",
   "execution_count": 46,
   "metadata": {},
   "outputs": [
    {
     "data": {
      "text/plain": [
       "'\\nHello Nick,\\n\\nHere is your Spotify trends for the month of November 2020:\\n- You have listend to 2 days, 0 hours, 7 minutes, and 8 seconds worth of music.\\n- There were 257 Major and 86 Minor tracks played. Keep the good vibes going!\\n- You\\'re monthly hipster score is 57.0 : A perfect balance of what\\'s hip and what\\'s new.\\n\\n<iframe src=\"https://open.spotify.com/embed/playlist/79tXL4BD7MnqvpMZtKDho9\" width=\"300\" height=\"380\" frameborder=\"0\" allowtransparency=\"true\" allow=\"encrypted-media\"></iframe>\\n\\nKeep on listening!\\n\\nAutomated Email by Nick Drake\\n\\n'"
      ]
     },
     "execution_count": 46,
     "metadata": {},
     "output_type": "execute_result"
    }
   ],
   "source": [
    "test_message = f'''\n",
    "Hello {username},\n",
    "\n",
    "Here is your Spotify trends for the month of {current_month} {current_year}:\n",
    "- You have listend to {days} days, {hours} hours, {minutes} minutes, and {round(seconds)} seconds worth of music.\n",
    "- There were {mode_major_count} Major and {mode_minor_count} Minor tracks played. {message1}\n",
    "- You're monthly hipster score is {ave_pop_score} : {message2}\n",
    "\n",
    "<iframe src=\"https://open.spotify.com/embed/playlist/79tXL4BD7MnqvpMZtKDho9\" width=\"300\" height=\"380\" frameborder=\"0\" allowtransparency=\"true\" allow=\"encrypted-media\"></iframe>\n",
    "\n",
    "Keep on listening!\n",
    "\n",
    "Automated Email by Nick Drake\n",
    "\n",
    "'''\n",
    "    \n",
    "#- Top 5 tracks added to the Python test playlist {current_year}: {tracks}\n",
    "test_message"
   ]
  },
  {
   "cell_type": "markdown",
   "metadata": {},
   "source": [
    "## Sending Email through Gmail"
   ]
  },
  {
   "cell_type": "code",
   "execution_count": null,
   "metadata": {},
   "outputs": [],
   "source": [
    "sender_email = \"SENDER_EMAIL\"\n",
    "receiver_email = \"RECEIVER_EMAIL\"\n",
    "password = config.gmail_password\n",
    "\n",
    "message = MIMEMultipart(\"alternative\")\n",
    "message[\"Subject\"] = \"Spotify Test Email\"\n",
    "message[\"From\"] = sender_email\n",
    "message[\"To\"] = receiver_email\n",
    "\n",
    "# Create the plain-text and HTML version of your message\n",
    "html = f\"\"\"<p style=\"line-height: 1;\">Hello {user_name},</p>\n",
    "<p style=\"line-height: 1;\"><br></p>\n",
    "<p style=\"line-height: 1;\">Thank you for listing to Spotify!</p>\n",
    "<p style=\"line-height: 1;\">You have been a member since {member_since}.&nbsp;</p>\n",
    "<p style=\"line-height: 1;\"><br></p>\n",
    "<p style=\"line-height: 1;\">Keep listing,</p>\n",
    "<p style=\"line-height: 1;\">Automated Email by Nick Drake</p>\n",
    "\"\"\"\n",
    "\n",
    "# Turn these into plain/html MIMEText objects\n",
    "part2 = MIMEText(html, \"html\")\n",
    "\n",
    "# Add HTML/plain-text parts to MIMEMultipart message\n",
    "# The email client will try to render the last part first\n",
    "# message.attach(part1)\n",
    "# message.attach(part2)\n",
    "\n",
    "# Create secure connection with server and send email\n",
    "context = ssl.create_default_context()\n",
    "with smtplib.SMTP_SSL(\"smtp.gmail.com\", 465, context=context) as server:\n",
    "    server.login(sender_email, password)\n",
    "    server.sendmail(\n",
    "        sender_email, receiver_email, message.as_string()\n",
    "    )"
   ]
  },
  {
   "cell_type": "code",
   "execution_count": null,
   "metadata": {},
   "outputs": [],
   "source": []
  }
 ],
 "metadata": {
  "kernelspec": {
   "display_name": "Python 3",
   "language": "python",
   "name": "python3"
  },
  "language_info": {
   "codemirror_mode": {
    "name": "ipython",
    "version": 3
   },
   "file_extension": ".py",
   "mimetype": "text/x-python",
   "name": "python",
   "nbconvert_exporter": "python",
   "pygments_lexer": "ipython3",
   "version": "3.6.8"
  }
 },
 "nbformat": 4,
 "nbformat_minor": 4
}
