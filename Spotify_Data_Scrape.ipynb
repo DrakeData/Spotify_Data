{
 "cells": [
  {
   "cell_type": "markdown",
   "metadata": {},
   "source": [
    "![spotify_logo](images/spotify_logo2.1.png)"
   ]
  },
  {
   "cell_type": "markdown",
   "metadata": {},
   "source": [
    "# Spotify API Scrape"
   ]
  },
  {
   "cell_type": "markdown",
   "metadata": {},
   "source": [
    "## Project Goal\n",
    "1. Pull most recently played tracks\n",
    "2. Pull top listen to tracks\n",
    "\n",
    "## Helpful Links:\n",
    "- [Spotify Web API - Authorization Guide](https://developer.spotify.com/documentation/general/guides/authorization-guide/)\n",
    "- [Spotify API References](https://developer.spotify.com/documentation/web-api/reference/)"
   ]
  },
  {
   "cell_type": "code",
   "execution_count": null,
   "metadata": {},
   "outputs": [],
   "source": [
    "import config\n",
    "import os\n",
    "import requests\n",
    "import json\n",
    "from json import JSONEncoder\n",
    "import pandas as pd\n",
    "from datetime import datetime,timezone, timedelta\n",
    "from tqdm import tqdm\n",
    "import numpy as np\n",
    "import spotipy\n",
    "from spotipy.oauth2 import SpotifyOAuth\n",
    "import base64\n",
    "from urllib.parse import urlencode\n",
    "\n",
    "import pytz\n",
    "import spotipy\n",
    "from spotipy.oauth2 import SpotifyClientCredentials\n",
    "import spotipy.util as util\n",
    "import xlsxwriter\n",
    "from tzlocal import get_localzone"
   ]
  },
  {
   "cell_type": "code",
   "execution_count": null,
   "metadata": {},
   "outputs": [],
   "source": [
    "# Create the file name we will be exporting later\n",
    "today = datetime.today().strftime('%Y%m%d')\n",
    "file_name = f\"Spotify_Export_{today}.xlsx\"\n",
    "file_name"
   ]
  },
  {
   "cell_type": "markdown",
   "metadata": {},
   "source": [
    "## Step 1: Get Access Token"
   ]
  },
  {
   "cell_type": "code",
   "execution_count": null,
   "metadata": {},
   "outputs": [],
   "source": [
    "client_id = config.client_id\n",
    "client_secret = config.client_secret"
   ]
  },
  {
   "cell_type": "code",
   "execution_count": null,
   "metadata": {},
   "outputs": [],
   "source": [
    "username = config.username\n",
    "client_id = config.client_id\n",
    "client_secret = config.client_secret\n",
    "redirect_uri = 'http://localhost:7777/callback'\n",
    "scope = 'user-read-recently-played'\n",
    "\n",
    "auth_token = util.prompt_for_user_token(username=username, \n",
    "                                   scope=scope, \n",
    "                                   client_id=client_id,   \n",
    "                                   client_secret=client_secret,     \n",
    "                                   redirect_uri=redirect_uri)"
   ]
  },
  {
   "cell_type": "markdown",
   "metadata": {},
   "source": [
    "## Step 2: Pull Recently Played"
   ]
  },
  {
   "cell_type": "code",
   "execution_count": null,
   "metadata": {},
   "outputs": [],
   "source": [
    "base_url = 'https://api.spotify.com/v1/me/player/recently-played?'\n",
    "#track_id = '6y0igZArWVi6Iz0rj35c1Y'\n",
    "\n",
    "#2. Authentication\n",
    "#3. Parameters -- would be stored with authentication\n",
    "headers = {\n",
    "    \"Authorization\": f\"Bearer {auth_token}\"\n",
    "}\n",
    "\n",
    "#4. Create an empty list\n",
    "personal_data = [] #would be good explore how to capture data at different points in time\n",
    "r = requests.get(base_url+\"&limit=50\", headers=headers)\n",
    "personal_data.append(json.loads(r.text))"
   ]
  },
  {
   "cell_type": "code",
   "execution_count": null,
   "metadata": {},
   "outputs": [],
   "source": [
    "track_ids = []\n",
    "album_names = []\n",
    "artist_names = []\n",
    "track_names = []\n",
    "played_ats = []\n",
    "\n",
    "for i in range(len(personal_data[0]['items'])):\n",
    "    track_ids.append(personal_data[0]['items'][i]['track']['id']) # Track ID\n",
    "    album_names.append(personal_data[0]['items'][i]['track']['album']['name']) # Album Name\n",
    "    artist_names.append(personal_data[0]['items'][i]['track']['artists'][0]['name']) # Artist Name\n",
    "    track_names.append(personal_data[0]['items'][i]['track']['name']) # Track Name\n",
    "    played_ats.append(personal_data[0]['items'][i]['played_at'])"
   ]
  },
  {
   "cell_type": "code",
   "execution_count": null,
   "metadata": {},
   "outputs": [],
   "source": [
    "list_dic={'track_id':track_ids,\n",
    "          'track_name':track_names,\n",
    "          'artist_name':artist_names,\n",
    "          'album_name':album_names,\n",
    "          'time_palyed': played_ats\n",
    "    }"
   ]
  },
  {
   "cell_type": "code",
   "execution_count": null,
   "metadata": {},
   "outputs": [],
   "source": [
    "df1=pd.DataFrame(list_dic)\n",
    "df1"
   ]
  },
  {
   "cell_type": "code",
   "execution_count": null,
   "metadata": {},
   "outputs": [],
   "source": [
    "# Convert UTC to local time zone\n",
    "utc_time = dateutil.parser.parse(df1['time_palyed'].iloc[0]).astimezone(get_localzone())\n",
    "# Format date/time\n",
    "local_time= utc_time.strftime('%Y-%m-%d %H:%M:%S')\n",
    "local_time"
   ]
  },
  {
   "cell_type": "code",
   "execution_count": null,
   "metadata": {},
   "outputs": [],
   "source": [
    "# Create empty column to append data to\n",
    "df1['local_time'] = ''\n",
    "\n",
    "for i in range(len(personal_data[0]['items'])):\n",
    "    utc_time = dateutil.parser.parse(df1['time_palyed'].iloc[i]).astimezone(get_localzone())\n",
    "    # Format date/time\n",
    "    local_time= utc_time.strftime('%Y-%m-%d %H:%M:%S')\n",
    "    local_time\n",
    "    \n",
    "    df1['local_time'].iloc[i] = local_time"
   ]
  },
  {
   "cell_type": "code",
   "execution_count": null,
   "metadata": {},
   "outputs": [],
   "source": [
    "df1.head()"
   ]
  },
  {
   "cell_type": "code",
   "execution_count": null,
   "metadata": {},
   "outputs": [],
   "source": [
    "writer = pd.ExcelWriter(file_name)\n",
    "df1.to_excel(writer,'recently_played')"
   ]
  },
  {
   "cell_type": "markdown",
   "metadata": {},
   "source": [
    "## Step 3: Pull User's Top Artists & Tracks"
   ]
  },
  {
   "cell_type": "code",
   "execution_count": null,
   "metadata": {},
   "outputs": [],
   "source": [
    "username = config.username\n",
    "client_id = config.client_id\n",
    "client_secret = config.client_secret\n",
    "redirect_uri = 'http://localhost:7777/callback'\n",
    "scope = 'user-top-read'\n",
    "\n",
    "auth_token = util.prompt_for_user_token(username=username, \n",
    "                                   scope=scope, \n",
    "                                   client_id=client_id,   \n",
    "                                   client_secret=client_secret,     \n",
    "                                   redirect_uri=redirect_uri)"
   ]
  },
  {
   "cell_type": "code",
   "execution_count": null,
   "metadata": {},
   "outputs": [],
   "source": [
    "base_url = 'https://api.spotify.com/v1/me/top/tracks?'\n",
    "#track_id = '6y0igZArWVi6Iz0rj35c1Y'\n",
    "\n",
    "#2. Authentication\n",
    "#3. Parameters -- would be stored with authentication\n",
    "headers = {\n",
    "    \"Authorization\": f\"Bearer {auth_token}\"\n",
    "}\n",
    "\n",
    "#4. Create an empty list\n",
    "top_track_data = [] #would be good explore how to capture data at different points in time\n",
    "r = requests.get(base_url+\"time_range=medium_term\"+\"&&limit=50\", headers=headers)\n",
    "top_track_data.append(json.loads(r.text))"
   ]
  },
  {
   "cell_type": "code",
   "execution_count": null,
   "metadata": {},
   "outputs": [],
   "source": [
    "track_idss = []\n",
    "album_namess = []\n",
    "album_relase_datess = []\n",
    "artist_namess = []\n",
    "track_namess = []\n",
    "\n",
    "for i in range(len(top_track_data[0]['items'])):\n",
    "    track_idss.append(top_track_data[0]['items'][i]['id']) # Track ID\n",
    "    album_namess.append(top_track_data[0]['items'][i]['album']['name']) # Album Name\n",
    "    album_relase_datess.append(top_track_data[0]['items'][i]['album']['release_date'])\n",
    "    artist_namess.append(top_track_data[0]['items'][i]['album']['artists'][0]['name']) # Artist Name\n",
    "    track_namess.append(top_track_data[0]['items'][i]['name']) # Track Name"
   ]
  },
  {
   "cell_type": "code",
   "execution_count": null,
   "metadata": {},
   "outputs": [],
   "source": [
    "list_dic2={'track_id':track_idss,\n",
    "           'track_name':track_namess,\n",
    "           'album_name':album_namess,\n",
    "           'artist_name':artist_namess,\n",
    "           'album_relase_date':album_relase_datess,\n",
    "    }"
   ]
  },
  {
   "cell_type": "code",
   "execution_count": null,
   "metadata": {
    "scrolled": true
   },
   "outputs": [],
   "source": [
    "df2=pd.DataFrame(list_dic2)\n",
    "df2"
   ]
  },
  {
   "cell_type": "markdown",
   "metadata": {},
   "source": [
    "## Step 4: Pull Track Info\n",
    "- API Doc: https://developer.spotify.com/documentation/web-api/reference/tracks/get-audio-analysis/"
   ]
  },
  {
   "cell_type": "code",
   "execution_count": null,
   "metadata": {},
   "outputs": [],
   "source": [
    "track_id_ls = df2['track_id'].tolist()"
   ]
  },
  {
   "cell_type": "code",
   "execution_count": null,
   "metadata": {},
   "outputs": [],
   "source": [
    "track_data = []\n",
    "for id in tqdm(track_id_ls):\n",
    "    base_url = f'https://api.spotify.com/v1/audio-features/{id}?'\n",
    "\n",
    "    #2. Authentication\n",
    "    #3. Parameters -- would be stored with authentication\n",
    "    headers = {\n",
    "        \"Authorization\": f\"Bearer {auth_token}\"\n",
    "    }\n",
    "\n",
    "    r = requests.get(base_url, headers=headers)\n",
    "    track_data.append(json.loads(r.text))"
   ]
  },
  {
   "cell_type": "code",
   "execution_count": null,
   "metadata": {},
   "outputs": [],
   "source": [
    "track_df = pd.json_normalize(track_data)\n",
    "track_df.head()"
   ]
  },
  {
   "cell_type": "markdown",
   "metadata": {},
   "source": [
    "## Clean Up Track Data"
   ]
  },
  {
   "cell_type": "markdown",
   "metadata": {},
   "source": [
    "## Update 'mode' to tell if track is major or minor"
   ]
  },
  {
   "cell_type": "code",
   "execution_count": null,
   "metadata": {},
   "outputs": [],
   "source": [
    "mod_dict = {0 : 'Minor',\n",
    "            1: 'Major'}"
   ]
  },
  {
   "cell_type": "code",
   "execution_count": null,
   "metadata": {},
   "outputs": [],
   "source": [
    "track_df['mode'].replace(mod_dict, inplace=True)"
   ]
  },
  {
   "cell_type": "markdown",
   "metadata": {},
   "source": [
    "## Update \"key\" to tell the actually key"
   ]
  },
  {
   "cell_type": "code",
   "execution_count": null,
   "metadata": {},
   "outputs": [],
   "source": [
    "music_dic = {\n",
    "    0: 'C',\n",
    "    1: 'C#/Db',\n",
    "    2: 'D',\n",
    "    3: 'D#/Eb',\n",
    "    4: 'E',\n",
    "    5: 'F',\n",
    "    6: 'F#/Gb',\n",
    "    7: 'G',\n",
    "    8: 'G#/Ab',\n",
    "    9: 'A',\n",
    "    10: 'A#/Bb',\n",
    "    11: 'B' \n",
    "}"
   ]
  },
  {
   "cell_type": "code",
   "execution_count": null,
   "metadata": {},
   "outputs": [],
   "source": [
    "track_df['key'].replace(music_dic, inplace=True)"
   ]
  },
  {
   "cell_type": "markdown",
   "metadata": {},
   "source": [
    "## Add column duration in minutes/seconds"
   ]
  },
  {
   "cell_type": "code",
   "execution_count": null,
   "metadata": {},
   "outputs": [],
   "source": [
    "track_df['track_duration'] = ''\n",
    "\n",
    "for i in range(len(track_df['id'])):\n",
    "    millis=track_df['duration_ms'].iloc[i]\n",
    "    track_df['track_duration'].iloc[i] = pd.to_datetime(millis, unit='ms').strftime('%H:%M:%S')"
   ]
  },
  {
   "cell_type": "markdown",
   "metadata": {},
   "source": [
    "## Rename track id column"
   ]
  },
  {
   "cell_type": "code",
   "execution_count": null,
   "metadata": {},
   "outputs": [],
   "source": [
    "track_df=track_df.rename(columns = {'id':'track_id'})\n",
    "track_df.head()                     "
   ]
  },
  {
   "cell_type": "markdown",
   "metadata": {},
   "source": [
    "# Create Master Dataframe"
   ]
  },
  {
   "cell_type": "code",
   "execution_count": null,
   "metadata": {},
   "outputs": [],
   "source": [
    "master_df = pd.merge(df2, track_df,\n",
    "                       how='left', on=['track_id'])"
   ]
  },
  {
   "cell_type": "code",
   "execution_count": null,
   "metadata": {},
   "outputs": [],
   "source": [
    "master_df.head(10)"
   ]
  },
  {
   "cell_type": "code",
   "execution_count": null,
   "metadata": {},
   "outputs": [],
   "source": [
    "master_df.to_excel(writer,'top_tracks')"
   ]
  },
  {
   "cell_type": "markdown",
   "metadata": {},
   "source": [
    "# Create Excel File"
   ]
  },
  {
   "cell_type": "code",
   "execution_count": null,
   "metadata": {},
   "outputs": [],
   "source": [
    "current_directory = os.path.abspath(os.getcwd())"
   ]
  },
  {
   "cell_type": "code",
   "execution_count": null,
   "metadata": {},
   "outputs": [],
   "source": [
    "export_file_path = os.path.join(current_directory, 'spotify_export_files', file_name)"
   ]
  },
  {
   "cell_type": "code",
   "execution_count": null,
   "metadata": {},
   "outputs": [],
   "source": [
    "# Create a Pandas Excel writer using XlsxWriter as the engine.\n",
    "writer = pd.ExcelWriter(export_file_path, engine='xlsxwriter')\n",
    "\n",
    "# Convert the dataframe to an XlsxWriter Excel object.\n",
    "df1.to_excel(writer,'recently_played', index=False)\n",
    "master_df.to_excel(writer,'top_tracks',index=False)\n",
    "\n",
    "# Get the xlsxwriter workbook and worksheet objects.\n",
    "workbook  = writer.book\n",
    "worksheet1 = writer.sheets['recently_played']\n",
    "worksheet2 = writer.sheets['top_tracks']\n",
    "\n",
    "for i, col in enumerate(master_df.columns):\n",
    "\n",
    "    # find length of column i\n",
    "    column_len = master_df[col].astype(str).str.len().max()\n",
    "    # Setting the length if the column header is larger\n",
    "    # than the max column value length\n",
    "    column_len = max(column_len, len(col)) + 2\n",
    "    \n",
    "    # set the column length\n",
    "    worksheet1.set_column(i, i, column_len)\n",
    "    worksheet2.set_column(i, i, column_len)\n",
    "writer.save()"
   ]
  },
  {
   "cell_type": "code",
   "execution_count": null,
   "metadata": {},
   "outputs": [],
   "source": []
  }
 ],
 "metadata": {
  "kernelspec": {
   "display_name": "Python 3",
   "language": "python",
   "name": "python3"
  },
  "language_info": {
   "codemirror_mode": {
    "name": "ipython",
    "version": 3
   },
   "file_extension": ".py",
   "mimetype": "text/x-python",
   "name": "python",
   "nbconvert_exporter": "python",
   "pygments_lexer": "ipython3",
   "version": "3.6.8"
  }
 },
 "nbformat": 4,
 "nbformat_minor": 4
}
