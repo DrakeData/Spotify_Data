{
 "cells": [
  {
   "cell_type": "markdown",
   "metadata": {},
   "source": [
    "![spotify_logo](images/spotify_logo2.1.png)"
   ]
  },
  {
   "cell_type": "markdown",
   "metadata": {},
   "source": [
    "# Spotify API Scrape"
   ]
  },
  {
   "cell_type": "markdown",
   "metadata": {},
   "source": [
    "## Project Goal\n",
    "1. Pull most recently played tracks\n",
    "2. Pull top listen to tracks\n",
    "\n",
    "## Helpful Links:\n",
    "- [Spotify Web API - Authorization Guide](https://developer.spotify.com/documentation/general/guides/authorization-guide/)\n",
    "- [Spotify API References](https://developer.spotify.com/documentation/web-api/reference/)"
   ]
  },
  {
   "cell_type": "code",
   "execution_count": 1,
   "metadata": {},
   "outputs": [],
   "source": [
    "import config\n",
    "import os\n",
    "import requests\n",
    "import json\n",
    "from json import JSONEncoder\n",
    "import pandas as pd\n",
    "from datetime import datetime,timezone, timedelta\n",
    "from tqdm import tqdm\n",
    "import numpy as np\n",
    "import spotipy\n",
    "from spotipy.oauth2 import SpotifyOAuth\n",
    "import base64\n",
    "from urllib.parse import urlencode\n",
    "\n",
    "import pytz\n",
    "import spotipy\n",
    "from spotipy.oauth2 import SpotifyClientCredentials\n",
    "import spotipy.util as util\n",
    "import xlsxwriter\n",
    "from tzlocal import get_localzone\n",
    "import dateutil\n",
    "import pandas_gbq\n",
    "from google.oauth2 import service_account\n",
    "import pipdeptree"
   ]
  },
  {
   "cell_type": "code",
   "execution_count": 2,
   "metadata": {},
   "outputs": [],
   "source": [
    "credentials = service_account.Credentials.from_service_account_file(\n",
    "    r'/Users/Nicholas/Desktop/GCP/GCP_Keys/spotify-project-287802-e5e6c43e8ecb.json'\n",
    ")"
   ]
  },
  {
   "cell_type": "code",
   "execution_count": 3,
   "metadata": {},
   "outputs": [
    {
     "data": {
      "text/plain": [
       "'Spotify_Export_20201030.xlsx'"
      ]
     },
     "execution_count": 3,
     "metadata": {},
     "output_type": "execute_result"
    }
   ],
   "source": [
    "# Create the file name we will be exporting later\n",
    "today = datetime.today().strftime('%Y%m%d')\n",
    "file_name = f\"Spotify_Export_{today}.xlsx\"\n",
    "file_name"
   ]
  },
  {
   "cell_type": "markdown",
   "metadata": {},
   "source": [
    "## Step 1: Get Access Token"
   ]
  },
  {
   "cell_type": "code",
   "execution_count": 4,
   "metadata": {},
   "outputs": [],
   "source": [
    "client_id = config.client_id\n",
    "client_secret = config.client_secret\n",
    "username = config.username"
   ]
  },
  {
   "cell_type": "code",
   "execution_count": 5,
   "metadata": {},
   "outputs": [],
   "source": [
    "username = config.username\n",
    "client_id = config.client_id\n",
    "client_secret = config.client_secret\n",
    "redirect_uri = 'http://localhost:7777/callback'\n",
    "scope = 'user-read-recently-played'\n",
    "\n",
    "auth_token = util.prompt_for_user_token(username=username, \n",
    "                                   scope=scope, \n",
    "                                   client_id=client_id,   \n",
    "                                   client_secret=client_secret,     \n",
    "                                   redirect_uri=redirect_uri)"
   ]
  },
  {
   "cell_type": "markdown",
   "metadata": {},
   "source": [
    "## Step 2: Pull Recently Played"
   ]
  },
  {
   "cell_type": "code",
   "execution_count": null,
   "metadata": {},
   "outputs": [],
   "source": [
    "base_url = 'https://api.spotify.com/v1/me/player/recently-played?'\n",
    "#track_id = '6y0igZArWVi6Iz0rj35c1Y'\n",
    "\n",
    "#2. Authentication\n",
    "#3. Parameters -- would be stored with authentication\n",
    "headers = {\n",
    "    \"Authorization\": f\"Bearer {auth_token}\"\n",
    "}\n",
    "\n",
    "#4. Create an empty list\n",
    "personal_data = [] #would be good explore how to capture data at different points in time\n",
    "r = requests.get(base_url+\"&limit=50\", headers=headers)\n",
    "personal_data.append(json.loads(r.text))"
   ]
  },
  {
   "cell_type": "code",
   "execution_count": null,
   "metadata": {},
   "outputs": [],
   "source": [
    "personal_data[0]['items'][3]['track']['artists'][0]['id']"
   ]
  },
  {
   "cell_type": "code",
   "execution_count": null,
   "metadata": {},
   "outputs": [],
   "source": [
    "track_ids = []\n",
    "album_ids = []\n",
    "artist_ids = []\n",
    "album_names = []\n",
    "artist_names = []\n",
    "track_names = []\n",
    "popularity_ls = []\n",
    "played_ats = []\n",
    "\n",
    "for i in range(len(personal_data[0]['items'])):\n",
    "    track_ids.append(personal_data[0]['items'][i]['track']['id']) # Track ID\n",
    "    album_ids.append(personal_data[0]['items'][i]['track']['album']['id']) # Albumn ID\n",
    "    artist_ids.append(personal_data[0]['items'][i]['track']['artists'][0]['id']) # Artist ID\n",
    "    album_names.append(personal_data[0]['items'][i]['track']['album']['name']) # Album Name\n",
    "    artist_names.append(personal_data[0]['items'][i]['track']['artists'][0]['name']) # Artist Name\n",
    "    track_names.append(personal_data[0]['items'][i]['track']['name']) # Track Name\n",
    "    popularity_ls.append(personal_data[0]['items'][i]['track']['popularity']) # Track Popularity\n",
    "    played_ats.append(personal_data[0]['items'][i]['played_at'])"
   ]
  },
  {
   "cell_type": "code",
   "execution_count": null,
   "metadata": {},
   "outputs": [],
   "source": [
    "list_dic={'track_id':track_ids,\n",
    "          'album_id':album_ids,\n",
    "          'artist_id':artist_ids,\n",
    "          'track_name':track_names,\n",
    "          'artist_name':artist_names,\n",
    "          'album_name':album_names,\n",
    "          'track_popularity':popularity_ls,\n",
    "          'time_palyed': played_ats\n",
    "    }"
   ]
  },
  {
   "cell_type": "code",
   "execution_count": null,
   "metadata": {},
   "outputs": [],
   "source": [
    "df1=pd.DataFrame(list_dic)\n",
    "df1"
   ]
  },
  {
   "cell_type": "code",
   "execution_count": null,
   "metadata": {},
   "outputs": [],
   "source": [
    "# Create empty column to append data to\n",
    "df1['local_time'] = ''\n",
    "\n",
    "for i in range(len(personal_data[0]['items'])):\n",
    "    # Convert UTC to local time zone\n",
    "    utc_time = dateutil.parser.parse(df1['time_palyed'].iloc[i]).astimezone(get_localzone())\n",
    "    # Format date/time\n",
    "    local_time= utc_time.strftime('%Y-%m-%d %H:%M:%S')\n",
    "    local_time\n",
    "    \n",
    "    df1['local_time'].iloc[i] = local_time"
   ]
  },
  {
   "cell_type": "code",
   "execution_count": null,
   "metadata": {},
   "outputs": [],
   "source": [
    "df1.head()"
   ]
  },
  {
   "cell_type": "markdown",
   "metadata": {},
   "source": [
    "## Check GCP BQ and Drop Any Duplicates (time_played)"
   ]
  },
  {
   "cell_type": "code",
   "execution_count": null,
   "metadata": {},
   "outputs": [],
   "source": [
    "# Query the BQ table for case_ids\n",
    "project_id = \"spotify-project-287802\"\n",
    "\n",
    "sql = \"\"\"\n",
    "SELECT time_palyed\n",
    "FROM `spotify-project-287802.spotify_api.recently_played_tracks` \n",
    "LIMIT 100\n",
    "\"\"\"\n",
    "# Load table into df\n",
    "bq_df = pandas_gbq.read_gbq(sql, project_id=project_id, credentials=credentials)\n",
    "\n",
    "# Create list of dq_df case_ids\n",
    "case_to_drop = bq_df['time_palyed'].tolist()\n",
    "# Compare case_ids from df1 if already in case_to_drop list\n",
    "df1_clean = df1[~df1['time_palyed'].str.contains('|'.join(case_to_drop))]\n",
    "print('After duplicate check, there are now {} new Case IDs from the API.'.format(len(df1_clean['time_palyed'])))"
   ]
  },
  {
   "cell_type": "code",
   "execution_count": null,
   "metadata": {},
   "outputs": [],
   "source": [
    "df1_clean"
   ]
  },
  {
   "cell_type": "code",
   "execution_count": null,
   "metadata": {},
   "outputs": [],
   "source": []
  },
  {
   "cell_type": "markdown",
   "metadata": {},
   "source": [
    "## Load into GCP Big Query"
   ]
  },
  {
   "cell_type": "code",
   "execution_count": null,
   "metadata": {},
   "outputs": [],
   "source": [
    "print('Loading data into GCP BigQuery')\n",
    "# Load into GCP BigQuery\n",
    "# Connect to Google Cloud API and upload dataframe\n",
    "destinatoin_table = 'spotify_api.recently_played_tracks'\n",
    "project_id = 'spotify-project-287802'\n",
    "\n",
    "\n",
    "pandas_gbq.to_gbq(df1_clean, destinatoin_table, project_id, if_exists='append', \n",
    "                  credentials=credentials)\n",
    "print('Script is complete; check table for details.')"
   ]
  },
  {
   "cell_type": "code",
   "execution_count": null,
   "metadata": {},
   "outputs": [],
   "source": []
  },
  {
   "cell_type": "code",
   "execution_count": null,
   "metadata": {},
   "outputs": [],
   "source": []
  },
  {
   "cell_type": "code",
   "execution_count": null,
   "metadata": {},
   "outputs": [],
   "source": [
    "writer = pd.ExcelWriter(file_name)\n",
    "df1.to_excel(writer,'recently_played')"
   ]
  },
  {
   "cell_type": "markdown",
   "metadata": {},
   "source": [
    "## Step 3: Pull User's Top Artists & Tracks"
   ]
  },
  {
   "cell_type": "code",
   "execution_count": null,
   "metadata": {},
   "outputs": [],
   "source": [
    "username = config.username\n",
    "client_id = config.client_id\n",
    "client_secret = config.client_secret\n",
    "redirect_uri = 'http://localhost:7777/callback'\n",
    "scope = 'user-top-read'\n",
    "\n",
    "auth_token = util.prompt_for_user_token(username=username, \n",
    "                                   scope=scope, \n",
    "                                   client_id=client_id,   \n",
    "                                   client_secret=client_secret,     \n",
    "                                   redirect_uri=redirect_uri)"
   ]
  },
  {
   "cell_type": "code",
   "execution_count": null,
   "metadata": {},
   "outputs": [],
   "source": [
    "base_url = 'https://api.spotify.com/v1/me/top/tracks?'\n",
    "#track_id = '6y0igZArWVi6Iz0rj35c1Y'\n",
    "\n",
    "#2. Authentication\n",
    "#3. Parameters -- would be stored with authentication\n",
    "headers = {\n",
    "    \"Authorization\": f\"Bearer {auth_token}\"\n",
    "}\n",
    "\n",
    "#4. Create an empty list\n",
    "top_track_data = [] #would be good explore how to capture data at different points in time\n",
    "r = requests.get(base_url+\"time_range=medium_term\"+\"&&limit=50\", headers=headers)\n",
    "top_track_data.append(json.loads(r.text))"
   ]
  },
  {
   "cell_type": "code",
   "execution_count": null,
   "metadata": {},
   "outputs": [],
   "source": [
    "track_idss = []\n",
    "album_idss = []\n",
    "artist_idss = []\n",
    "album_namess = []\n",
    "album_relase_datess = []\n",
    "artist_namess = []\n",
    "popularity_lss = []\n",
    "track_namess = []\n",
    "\n",
    "for i in range(len(top_track_data[0]['items'])):\n",
    "    track_idss.append(top_track_data[0]['items'][i]['id']) # Track ID\n",
    "    album_idss.append(top_track_data[0]['items'][i]['album']['id']) # Album ID\n",
    "    artist_idss.append(top_track_data[0]['items'][i]['album']['artists'][0]['id'])\n",
    "    album_namess.append(top_track_data[0]['items'][i]['album']['name']) # Album Name\n",
    "    album_relase_datess.append(top_track_data[0]['items'][i]['album']['release_date'])\n",
    "    artist_namess.append(top_track_data[0]['items'][i]['album']['artists'][0]['name']) # Artist Name\n",
    "    popularity_lss.append(top_track_data[0]['items'][i]['popularity'])\n",
    "    track_namess.append(top_track_data[0]['items'][i]['name']) # Track Name"
   ]
  },
  {
   "cell_type": "code",
   "execution_count": null,
   "metadata": {},
   "outputs": [],
   "source": [
    "list_dic2={'track_id':track_idss,\n",
    "           'album_id':album_idss,\n",
    "           'artist_id':artist_idss,\n",
    "           'track_name':track_namess,\n",
    "           'album_name':album_namess,\n",
    "           'artist_name':artist_namess,\n",
    "           'track_popularity':popularity_lss,\n",
    "           'album_relase_date':album_relase_datess,\n",
    "    }"
   ]
  },
  {
   "cell_type": "code",
   "execution_count": null,
   "metadata": {
    "scrolled": true
   },
   "outputs": [],
   "source": [
    "df2=pd.DataFrame(list_dic2)\n",
    "df2"
   ]
  },
  {
   "cell_type": "markdown",
   "metadata": {},
   "source": [
    "## Step 4: Pull Track Info\n",
    "- API Doc: https://developer.spotify.com/documentation/web-api/reference/tracks/get-audio-analysis/"
   ]
  },
  {
   "cell_type": "markdown",
   "metadata": {},
   "source": [
    "## TO DO: Create table in GCP for track info"
   ]
  },
  {
   "cell_type": "code",
   "execution_count": null,
   "metadata": {
    "scrolled": true
   },
   "outputs": [],
   "source": [
    "# Query GCP BQ for top 5 played tracks\n",
    "\n",
    "project_id = \"spotify-project-287802\"\n",
    "\n",
    "sql = \"\"\"\n",
    "SELECT track_id\n",
    "    , album_id\n",
    "    , artist_id\n",
    "    , track_name\n",
    "    , count(track_id) AS track_count\n",
    "    , artist_name\n",
    "    , album_name\n",
    "FROM `spotify-project-287802.spotify_api.recently_played_tracks`\n",
    "WHERE CAST(CAST(local_time AS TIMESTAMP) AS DATE) >= DATE_SUB(CURRENT_DATE(), INTERVAL 30 DAY)\n",
    "GROUP BY track_id\n",
    "    , album_id\n",
    "    , artist_id\n",
    "    , track_name\n",
    "    , artist_name\n",
    "    , album_name\n",
    "order by track_count DESC \n",
    "\"\"\"\n",
    "# Load table into df\n",
    "bq_df2 = pandas_gbq.read_gbq(sql, project_id=project_id, credentials=credentials)\n",
    "\n",
    "bq_df2.head()"
   ]
  },
  {
   "cell_type": "markdown",
   "metadata": {},
   "source": [
    "### Check for duplicates before adding songs to spotify playlist"
   ]
  },
  {
   "cell_type": "code",
   "execution_count": null,
   "metadata": {},
   "outputs": [],
   "source": [
    "# Query the BQ table for case_ids\n",
    "project_id = \"spotify-project-287802\"\n",
    "\n",
    "sql = \"\"\"\n",
    "SELECT track_id\n",
    "FROM `spotify-project-287802.spotify_api.spotify_python_playlist` \n",
    "\"\"\"\n",
    "# Load table into df\n",
    "track_check = pandas_gbq.read_gbq(sql, project_id=project_id, credentials=credentials)\n",
    "\n",
    "# Create list of dq_df case_ids\n",
    "case_to_drop = track_check['track_id'].tolist()\n",
    "# Compare case_ids from df1 if already in case_to_drop list\n",
    "bq_df2_clean = bq_df2[~bq_df2['track_id'].str.contains('|'.join(case_to_drop))]\n",
    "print('After duplicate check, there are now {} new Case IDs from the API.'.format(len(bq_df2_clean['track_id'])))"
   ]
  },
  {
   "cell_type": "code",
   "execution_count": null,
   "metadata": {},
   "outputs": [],
   "source": [
    "top5_mtracks = bq_df2_clean.iloc[:5]\n",
    "top5_mtracks"
   ]
  },
  {
   "cell_type": "code",
   "execution_count": null,
   "metadata": {
    "scrolled": true
   },
   "outputs": [],
   "source": [
    "# load data into GCP for later use\n",
    "print('Loading data into GCP BigQuery')\n",
    "# Load into GCP BigQuery\n",
    "# Connect to Google Cloud API and upload dataframe\n",
    "destinatoin_table = 'spotify_api.spotify_python_playlist'\n",
    "project_id = 'spotify-project-287802'\n",
    "\n",
    "\n",
    "pandas_gbq.to_gbq(top5_mtracks, destinatoin_table, project_id, if_exists='append', \n",
    "                  credentials=credentials)\n",
    "print('Script is complete; check table for details.')"
   ]
  },
  {
   "cell_type": "markdown",
   "metadata": {},
   "source": [
    "### Create a list of track ids of the top 5 songs of the month"
   ]
  },
  {
   "cell_type": "code",
   "execution_count": null,
   "metadata": {},
   "outputs": [],
   "source": [
    "track_id_ls=top5_mtracks['track_id'].tolist()\n",
    "track_id_ls"
   ]
  },
  {
   "cell_type": "markdown",
   "metadata": {},
   "source": [
    "### Pass list to get audio features"
   ]
  },
  {
   "cell_type": "code",
   "execution_count": null,
   "metadata": {},
   "outputs": [],
   "source": [
    "track_data = []\n",
    "for id in tqdm(track_id_ls):\n",
    "    base_url = f'https://api.spotify.com/v1/audio-features/{id}?'\n",
    "\n",
    "    #2. Authentication\n",
    "    #3. Parameters -- would be stored with authentication\n",
    "    headers = {\n",
    "        \"Authorization\": f\"Bearer {auth_token}\"\n",
    "    }\n",
    "\n",
    "    r = requests.get(base_url, headers=headers)\n",
    "    track_data.append(json.loads(r.text))"
   ]
  },
  {
   "cell_type": "code",
   "execution_count": null,
   "metadata": {},
   "outputs": [],
   "source": [
    "track_df = pd.json_normalize(track_data)\n",
    "track_df.head()"
   ]
  },
  {
   "cell_type": "code",
   "execution_count": null,
   "metadata": {},
   "outputs": [],
   "source": [
    "# Used to post songs to playlist\n",
    "spotify_urls_ls = track_df['uri'].tolist()\n",
    "spotify_urls_ls"
   ]
  },
  {
   "cell_type": "markdown",
   "metadata": {},
   "source": [
    "## Step 5: Pull Artist Info\n",
    "- [Artist Endpoint Documentation](https://developer.spotify.com/documentation/web-api/reference/artists/get-artist/)"
   ]
  },
  {
   "cell_type": "markdown",
   "metadata": {},
   "source": [
    "## TO DO: Create table in GCP for artist info"
   ]
  },
  {
   "cell_type": "code",
   "execution_count": null,
   "metadata": {},
   "outputs": [],
   "source": [
    "# Creating a uniqe list artist ids\n",
    "artist_id_ls = df2['artist_id'].tolist()\n",
    "artist_id_ls = list(dict.fromkeys(artist_id_ls))\n",
    "\n",
    "artist_id_ls"
   ]
  },
  {
   "cell_type": "code",
   "execution_count": null,
   "metadata": {},
   "outputs": [],
   "source": [
    "artist_data = []\n",
    "\n",
    "for a_id in tqdm(artist_id_ls):\n",
    "    base_url = f'https://api.spotify.com/v1/artists/{a_id}?'\n",
    "    # example artist_id = '06HL4z0CvFAxyc27GXpf02'\n",
    "\n",
    "    #2. Authentication\n",
    "    #3. Parameters -- would be stored with authentication\n",
    "    headers = {\n",
    "        \"Authorization\": f\"Bearer {auth_token}\"\n",
    "    }\n",
    "\n",
    "    #4. Create an empty list\n",
    "    r = requests.get(base_url, headers=headers)\n",
    "    artist_data.append(json.loads(r.text))"
   ]
  },
  {
   "cell_type": "code",
   "execution_count": null,
   "metadata": {},
   "outputs": [],
   "source": [
    "artist_data"
   ]
  },
  {
   "cell_type": "code",
   "execution_count": null,
   "metadata": {},
   "outputs": [],
   "source": [
    "len(artist_data[7]['genres'])"
   ]
  },
  {
   "cell_type": "code",
   "execution_count": null,
   "metadata": {},
   "outputs": [],
   "source": [
    "artist_id_ls = []\n",
    "artist_followers_ls = []\n",
    "artist_genres_ls = []\n",
    "artist_name_ls = []\n",
    "artist_popularity_ls = []\n",
    "\n",
    "for i in tqdm(range(len(artist_data))):\n",
    "    artist_id_ls.append(artist_data[i]['id'])\n",
    "    artist_followers_ls.append(artist_data[i]['followers']['total'])\n",
    "    artist_name_ls.append(artist_data[i]['name'])\n",
    "    artist_popularity_ls.append(artist_data[i]['popularity'])\n",
    "    \n",
    "    if len(artist_data[i]['genres']) > 0:\n",
    "        artist_genres_ls.append(artist_data[i]['genres'][0])\n",
    "    else:\n",
    "        artist_genres_ls.append('not listed')"
   ]
  },
  {
   "cell_type": "code",
   "execution_count": null,
   "metadata": {},
   "outputs": [],
   "source": [
    "list_dic3={'artist_id':artist_id_ls,\n",
    "           'artist_followers':artist_followers_ls,\n",
    "           'artist_genres':artist_genres_ls,\n",
    "           'artist_name':artist_name_ls,\n",
    "           'artist_popularity':artist_popularity_ls\n",
    "    }"
   ]
  },
  {
   "cell_type": "code",
   "execution_count": null,
   "metadata": {},
   "outputs": [],
   "source": [
    "artist_df = pd.DataFrame(list_dic3)\n",
    "artist_df"
   ]
  },
  {
   "cell_type": "markdown",
   "metadata": {},
   "source": [
    "## Clean Up Track Data"
   ]
  },
  {
   "cell_type": "markdown",
   "metadata": {},
   "source": [
    "## Update 'mode' to tell if track is major or minor"
   ]
  },
  {
   "cell_type": "code",
   "execution_count": null,
   "metadata": {},
   "outputs": [],
   "source": [
    "mod_dict = {0 : 'Minor',\n",
    "            1: 'Major'}"
   ]
  },
  {
   "cell_type": "code",
   "execution_count": null,
   "metadata": {},
   "outputs": [],
   "source": [
    "track_df['mode'].replace(mod_dict, inplace=True)"
   ]
  },
  {
   "cell_type": "markdown",
   "metadata": {},
   "source": [
    "## Update \"key\" to tell the actually key"
   ]
  },
  {
   "cell_type": "code",
   "execution_count": null,
   "metadata": {},
   "outputs": [],
   "source": [
    "music_dic = {\n",
    "    0: 'C',\n",
    "    1: 'C#/Db',\n",
    "    2: 'D',\n",
    "    3: 'D#/Eb',\n",
    "    4: 'E',\n",
    "    5: 'F',\n",
    "    6: 'F#/Gb',\n",
    "    7: 'G',\n",
    "    8: 'G#/Ab',\n",
    "    9: 'A',\n",
    "    10: 'A#/Bb',\n",
    "    11: 'B' \n",
    "}"
   ]
  },
  {
   "cell_type": "code",
   "execution_count": null,
   "metadata": {},
   "outputs": [],
   "source": [
    "track_df['key'].replace(music_dic, inplace=True)"
   ]
  },
  {
   "cell_type": "markdown",
   "metadata": {},
   "source": [
    "## Add column duration in minutes/seconds"
   ]
  },
  {
   "cell_type": "code",
   "execution_count": null,
   "metadata": {},
   "outputs": [],
   "source": [
    "track_df['track_duration'] = ''\n",
    "\n",
    "for i in range(len(track_df['id'])):\n",
    "    millis=track_df['duration_ms'].iloc[i]\n",
    "    track_df['track_duration'].iloc[i] = pd.to_datetime(millis, unit='ms').strftime('%H:%M:%S')"
   ]
  },
  {
   "cell_type": "markdown",
   "metadata": {},
   "source": [
    "## Rename track id column"
   ]
  },
  {
   "cell_type": "code",
   "execution_count": null,
   "metadata": {},
   "outputs": [],
   "source": [
    "track_df=track_df.rename(columns = {'id':'track_id'})\n",
    "track_df.head()                     "
   ]
  },
  {
   "cell_type": "markdown",
   "metadata": {},
   "source": [
    "# Create Master Dataframe"
   ]
  },
  {
   "cell_type": "code",
   "execution_count": null,
   "metadata": {},
   "outputs": [],
   "source": [
    "master_df = pd.merge(df2, track_df,\n",
    "                       how='left', on=['track_id'])"
   ]
  },
  {
   "cell_type": "code",
   "execution_count": null,
   "metadata": {},
   "outputs": [],
   "source": [
    "master_df.head(10)"
   ]
  },
  {
   "cell_type": "code",
   "execution_count": null,
   "metadata": {},
   "outputs": [],
   "source": [
    "master_df.to_excel(writer,'top_tracks')"
   ]
  },
  {
   "cell_type": "markdown",
   "metadata": {},
   "source": [
    "# Create Excel File"
   ]
  },
  {
   "cell_type": "code",
   "execution_count": null,
   "metadata": {},
   "outputs": [],
   "source": [
    "current_directory = os.path.abspath(os.getcwd())"
   ]
  },
  {
   "cell_type": "code",
   "execution_count": null,
   "metadata": {},
   "outputs": [],
   "source": [
    "export_file_path = os.path.join(current_directory, 'spotify_export_files', file_name)"
   ]
  },
  {
   "cell_type": "code",
   "execution_count": null,
   "metadata": {},
   "outputs": [],
   "source": [
    "# Create a Pandas Excel writer using XlsxWriter as the engine.\n",
    "writer = pd.ExcelWriter(export_file_path, engine='xlsxwriter')\n",
    "\n",
    "# Convert the dataframe to an XlsxWriter Excel object.\n",
    "df1.to_excel(writer,'recently_played', index=False)\n",
    "master_df.to_excel(writer,'top_tracks',index=False)\n",
    "\n",
    "# Get the xlsxwriter workbook and worksheet objects.\n",
    "workbook  = writer.book\n",
    "worksheet1 = writer.sheets['recently_played']\n",
    "worksheet2 = writer.sheets['top_tracks']\n",
    "\n",
    "\n",
    "for i, col in enumerate(master_df.columns):\n",
    "    # find length of column i\n",
    "    column_len = master_df[col].astype(str).str.len().max()\n",
    "    # Setting the length if the column header is larger\n",
    "    # than the max column value length\n",
    "    column_len = max(column_len, len(col)) + 2\n",
    "    \n",
    "    # set the column length\n",
    "    worksheet1.set_column(i, i, column_len)\n",
    "    \n",
    "for i, col in enumerate(df1.columns):\n",
    "    # find length of column i\n",
    "    column_len = df1[col].astype(str).str.len().max()\n",
    "    # Setting the length if the column header is larger\n",
    "    # than the max column value length\n",
    "    column_len = max(column_len, len(col)) + 2\n",
    "    \n",
    "    # set the column length\n",
    "    worksheet2.set_column(i, i, column_len)\n",
    "\n",
    "writer.save()"
   ]
  },
  {
   "cell_type": "markdown",
   "metadata": {},
   "source": [
    "# Check to see if playlist exist"
   ]
  },
  {
   "cell_type": "markdown",
   "metadata": {},
   "source": [
    "## Pull user playlist info"
   ]
  },
  {
   "cell_type": "code",
   "execution_count": 28,
   "metadata": {},
   "outputs": [],
   "source": [
    "username = config.username\n",
    "client_id = config.client_id\n",
    "client_secret = config.client_secret\n",
    "redirect_uri = 'http://localhost:7777/callback'\n",
    "scope = 'playlist-read-collaborative, playlist-read-private, playlist-modify-public, playlist-modify-private'\n",
    "\n",
    "auth_token = util.prompt_for_user_token(username=username, \n",
    "                                   scope=scope, \n",
    "                                   client_id=client_id,   \n",
    "                                   client_secret=client_secret,     \n",
    "                                   redirect_uri=redirect_uri)"
   ]
  },
  {
   "cell_type": "code",
   "execution_count": 29,
   "metadata": {},
   "outputs": [],
   "source": [
    "base_url = f'https://api.spotify.com/v1/users/{username}/playlists?'\n",
    "\n",
    "#2. Authentication\n",
    "#3. Parameters -- would be stored with authentication\n",
    "headers = {\n",
    "    \"Authorization\": f\"Bearer {auth_token}\"\n",
    "}\n",
    "\n",
    "#4. Create an empty list\n",
    "personal_playlist_data = [] #would be good explore how to capture data at different points in time\n",
    "r = requests.get(base_url+\"&limit=50\", headers=headers)\n",
    "personal_playlist_data.append(json.loads(r.text))"
   ]
  },
  {
   "cell_type": "code",
   "execution_count": 30,
   "metadata": {},
   "outputs": [],
   "source": [
    "playlist_ids = []\n",
    "playlist_names = []\n",
    "playlist_descriptions = []\n",
    "playlist_owners = []\n",
    "playlist_publics = []\n",
    "\n",
    "for i in range(len(personal_playlist_data[0]['items'])):\n",
    "    playlist_ids.append(personal_playlist_data[0]['items'][i]['id'])\n",
    "    playlist_names.append(personal_playlist_data[0]['items'][i]['name'])\n",
    "    playlist_descriptions.append(personal_playlist_data[0]['items'][i]['description'])\n",
    "    playlist_owners.append(personal_playlist_data[0]['items'][i]['owner']['display_name'])\n",
    "    playlist_publics.append(personal_playlist_data[0]['items'][i]['public'])"
   ]
  },
  {
   "cell_type": "code",
   "execution_count": 31,
   "metadata": {},
   "outputs": [],
   "source": [
    "list_dic4={'playlist_id':playlist_ids,\n",
    "           'playlist_name':playlist_names,\n",
    "           'playlist_description':playlist_descriptions,\n",
    "           'playlist_owner':playlist_owners,\n",
    "           'playlist_public':playlist_publics\n",
    "    }"
   ]
  },
  {
   "cell_type": "code",
   "execution_count": 32,
   "metadata": {},
   "outputs": [
    {
     "data": {
      "text/html": [
       "<div>\n",
       "<style scoped>\n",
       "    .dataframe tbody tr th:only-of-type {\n",
       "        vertical-align: middle;\n",
       "    }\n",
       "\n",
       "    .dataframe tbody tr th {\n",
       "        vertical-align: top;\n",
       "    }\n",
       "\n",
       "    .dataframe thead th {\n",
       "        text-align: right;\n",
       "    }\n",
       "</style>\n",
       "<table border=\"1\" class=\"dataframe\">\n",
       "  <thead>\n",
       "    <tr style=\"text-align: right;\">\n",
       "      <th></th>\n",
       "      <th>playlist_id</th>\n",
       "      <th>playlist_name</th>\n",
       "      <th>playlist_description</th>\n",
       "      <th>playlist_owner</th>\n",
       "      <th>playlist_public</th>\n",
       "    </tr>\n",
       "  </thead>\n",
       "  <tbody>\n",
       "    <tr>\n",
       "      <th>0</th>\n",
       "      <td>2tmzVHK0OfcbWWViZve0B6</td>\n",
       "      <td>Fall 2020</td>\n",
       "      <td></td>\n",
       "      <td>Nicholas Drake</td>\n",
       "      <td>True</td>\n",
       "    </tr>\n",
       "    <tr>\n",
       "      <th>1</th>\n",
       "      <td>79tXL4BD7MnqvpMZtKDho9</td>\n",
       "      <td>Test Python Playlist 2020</td>\n",
       "      <td>This is a test playlist generated by Python</td>\n",
       "      <td>Nicholas Drake</td>\n",
       "      <td>True</td>\n",
       "    </tr>\n",
       "    <tr>\n",
       "      <th>2</th>\n",
       "      <td>7Esbky8lu1dZKcAMcovavP</td>\n",
       "      <td>Michelle’s Queued Up Discovery</td>\n",
       "      <td></td>\n",
       "      <td>Nicholas Drake</td>\n",
       "      <td>False</td>\n",
       "    </tr>\n",
       "    <tr>\n",
       "      <th>3</th>\n",
       "      <td>5b4Ko7aAOpk8JT9qQnngOy</td>\n",
       "      <td>Pop Punk</td>\n",
       "      <td></td>\n",
       "      <td>Amber Layn Miller</td>\n",
       "      <td>False</td>\n",
       "    </tr>\n",
       "    <tr>\n",
       "      <th>4</th>\n",
       "      <td>0RSKurPBF9Jd2W6zjAw6ZI</td>\n",
       "      <td>Chicago Unite At Night Complete Collection</td>\n",
       "      <td>Chicago nightly sing-along collection during C...</td>\n",
       "      <td>Chicago Unite At Night</td>\n",
       "      <td>False</td>\n",
       "    </tr>\n",
       "  </tbody>\n",
       "</table>\n",
       "</div>"
      ],
      "text/plain": [
       "              playlist_id                                playlist_name  \\\n",
       "0  2tmzVHK0OfcbWWViZve0B6                                    Fall 2020   \n",
       "1  79tXL4BD7MnqvpMZtKDho9                    Test Python Playlist 2020   \n",
       "2  7Esbky8lu1dZKcAMcovavP               Michelle’s Queued Up Discovery   \n",
       "3  5b4Ko7aAOpk8JT9qQnngOy                                    Pop Punk    \n",
       "4  0RSKurPBF9Jd2W6zjAw6ZI  Chicago Unite At Night Complete Collection    \n",
       "\n",
       "                                playlist_description          playlist_owner  \\\n",
       "0                                                             Nicholas Drake   \n",
       "1        This is a test playlist generated by Python          Nicholas Drake   \n",
       "2                                                             Nicholas Drake   \n",
       "3                                                          Amber Layn Miller   \n",
       "4  Chicago nightly sing-along collection during C...  Chicago Unite At Night   \n",
       "\n",
       "   playlist_public  \n",
       "0             True  \n",
       "1             True  \n",
       "2            False  \n",
       "3            False  \n",
       "4            False  "
      ]
     },
     "execution_count": 32,
     "metadata": {},
     "output_type": "execute_result"
    }
   ],
   "source": [
    "playlist_df = pd.DataFrame(list_dic4)\n",
    "playlist_df.head()"
   ]
  },
  {
   "cell_type": "markdown",
   "metadata": {},
   "source": [
    "## Check to verify playlist exist\n",
    "If it doesn't, create it"
   ]
  },
  {
   "cell_type": "code",
   "execution_count": 45,
   "metadata": {},
   "outputs": [
    {
     "data": {
      "text/plain": [
       "'2020'"
      ]
     },
     "execution_count": 45,
     "metadata": {},
     "output_type": "execute_result"
    }
   ],
   "source": [
    "cur_year = datetime.today().strftime('%Y')\n",
    "cur_year"
   ]
  },
  {
   "cell_type": "code",
   "execution_count": 35,
   "metadata": {},
   "outputs": [
    {
     "name": "stdout",
     "output_type": "stream",
     "text": [
      "Playlist exist!\n"
     ]
    }
   ],
   "source": [
    "if f'Test Python Playlist {cur_year}' in set(playlist_df['playlist_name']):\n",
    "    print(\"Playlist exist!\")\n",
    "    \n",
    "    base_url = f'https://api.spotify.com/v1/users/{username}/playlists?'\n",
    "\n",
    "    #2. Authentication\n",
    "    #3. Parameters -- would be stored with authentication\n",
    "    headers = {\n",
    "        \"Authorization\": f\"Bearer {auth_token}\"\n",
    "    }\n",
    "\n",
    "    #4. Create an empty list\n",
    "    personal_playlist_data = [] #would be good explore how to capture data at different points in time\n",
    "    r = requests.get(base_url+\"&limit=50\", headers=headers)\n",
    "    personal_playlist_data.append(json.loads(r.text))\n",
    "    \n",
    "    playlist_ids = []\n",
    "    playlist_names = []\n",
    "    playlist_descriptions = []\n",
    "    playlist_owners = []\n",
    "    playlist_publics = []\n",
    "\n",
    "    for i in range(len(personal_playlist_data[0]['items'])):\n",
    "        playlist_ids.append(personal_playlist_data[0]['items'][i]['id'])\n",
    "        playlist_names.append(personal_playlist_data[0]['items'][i]['name'])\n",
    "        playlist_descriptions.append(personal_playlist_data[0]['items'][i]['description'])\n",
    "        playlist_owners.append(personal_playlist_data[0]['items'][i]['owner']['display_name'])\n",
    "        playlist_publics.append(personal_playlist_data[0]['items'][i]['public'])\n",
    "        \n",
    "    list_dic4={'playlist_id':playlist_ids,\n",
    "           'playlist_name':playlist_names,\n",
    "           'playlist_description':playlist_descriptions,\n",
    "           'playlist_owner':playlist_owners,\n",
    "           'playlist_public':playlist_publics\n",
    "    }\n",
    "    \n",
    "    playlist_df = pd.DataFrame(list_dic4)\n",
    "    playlist_df.head()\n",
    "    \n",
    "    \n",
    "    \n",
    "else:\n",
    "    print(\"Creating Playlist...\")\n",
    "    base_url = f'https://api.spotify.com/v1/users/{username}/playlists'\n",
    "\n",
    "    #2. Authentication\n",
    "    #3. Parameters -- would be stored with authentication\n",
    "    headers = {\n",
    "        \"Content-Type\":\"application/json\",\n",
    "        \"Authorization\": f\"Bearer {auth_token}\"\n",
    "    }\n",
    "\n",
    "    request_body = json.dumps({\n",
    "              \"name\": f\"Test Python Playlist {cur_year}\",\n",
    "              \"description\": f\"This is a test playlist generated by Python for {cur_year}.\",\n",
    "              \"public\": False # private\n",
    "            })\n",
    "    #4. Create an empty list\n",
    "    r = requests.post(url = base_url, data = request_body, headers=headers)\n",
    "    print(r.text)"
   ]
  },
  {
   "cell_type": "markdown",
   "metadata": {},
   "source": [
    "# How to Create Playlist"
   ]
  },
  {
   "cell_type": "code",
   "execution_count": null,
   "metadata": {},
   "outputs": [],
   "source": [
    "username = config.username\n",
    "client_id = config.client_id\n",
    "client_secret = config.client_secret\n",
    "redirect_uri = 'http://localhost:7777/callback'\n",
    "scope = 'playlist-modify-private'\n",
    "\n",
    "auth_token = util.prompt_for_user_token(username=username, \n",
    "                                   scope=scope, \n",
    "                                   client_id=client_id,   \n",
    "                                   client_secret=client_secret,     \n",
    "                                   redirect_uri=redirect_uri)"
   ]
  },
  {
   "cell_type": "code",
   "execution_count": null,
   "metadata": {},
   "outputs": [],
   "source": [
    "base_url = f'https://api.spotify.com/v1/users/{username}/playlists'\n",
    "\n",
    "#2. Authentication\n",
    "#3. Parameters -- would be stored with authentication\n",
    "headers = {\n",
    "    \"Content-Type\":\"application/json\",\n",
    "    \"Authorization\": f\"Bearer {auth_token}\"\n",
    "}\n",
    "\n",
    "request_body = json.dumps({\n",
    "          \"name\": \"Test Python Playlist\",\n",
    "          \"description\": \"This is a test playlist generated by Python.\",\n",
    "          \"public\": False # private\n",
    "        })\n",
    "#4. Create an empty list\n",
    "r = requests.post(url = base_url, data = request_body, headers=headers)\n",
    "print(r.text)"
   ]
  },
  {
   "cell_type": "code",
   "execution_count": null,
   "metadata": {},
   "outputs": [],
   "source": [
    "print(r.text)"
   ]
  },
  {
   "cell_type": "markdown",
   "metadata": {},
   "source": [
    "# Pull Playlist ID"
   ]
  },
  {
   "cell_type": "code",
   "execution_count": 36,
   "metadata": {},
   "outputs": [],
   "source": [
    "username = config.username\n",
    "client_id = config.client_id\n",
    "client_secret = config.client_secret\n",
    "redirect_uri = 'http://localhost:7777/callback'\n",
    "scope = 'playlist-read-private'\n",
    "\n",
    "auth_token = util.prompt_for_user_token(username=username, \n",
    "                                   scope=scope, \n",
    "                                   client_id=client_id,   \n",
    "                                   client_secret=client_secret,     \n",
    "                                   redirect_uri=redirect_uri)"
   ]
  },
  {
   "cell_type": "code",
   "execution_count": 37,
   "metadata": {},
   "outputs": [],
   "source": [
    "base_url = f'https://api.spotify.com/v1/users/{username}/playlists?'\n",
    "\n",
    "#2. Authentication\n",
    "#3. Parameters -- would be stored with authentication\n",
    "headers = {\n",
    "    \"Authorization\": f\"Bearer {auth_token}\"\n",
    "}\n",
    "\n",
    "#4. Create an empty list\n",
    "personal_playlist_data = [] #would be good explore how to capture data at different points in time\n",
    "r = requests.get(base_url+\"&limit=50\", headers=headers)\n",
    "personal_playlist_data.append(json.loads(r.text))"
   ]
  },
  {
   "cell_type": "code",
   "execution_count": 38,
   "metadata": {},
   "outputs": [],
   "source": [
    "playlist_ids = []\n",
    "playlist_names = []\n",
    "playlist_descriptions = []\n",
    "playlist_owners = []\n",
    "playlist_publics = []\n",
    "\n",
    "for i in range(len(personal_playlist_data[0]['items'])):\n",
    "    playlist_ids.append(personal_playlist_data[0]['items'][i]['id'])\n",
    "    playlist_names.append(personal_playlist_data[0]['items'][i]['name'])\n",
    "    playlist_descriptions.append(personal_playlist_data[0]['items'][i]['description'])\n",
    "    playlist_owners.append(personal_playlist_data[0]['items'][i]['owner']['display_name'])\n",
    "    playlist_publics.append(personal_playlist_data[0]['items'][i]['public'])"
   ]
  },
  {
   "cell_type": "code",
   "execution_count": 39,
   "metadata": {},
   "outputs": [],
   "source": [
    "list_dic4={'playlist_id':playlist_ids,\n",
    "           'playlist_name':playlist_names,\n",
    "           'playlist_description':playlist_descriptions,\n",
    "           'playlist_owner':playlist_owners,\n",
    "           'playlist_public':playlist_publics\n",
    "    }"
   ]
  },
  {
   "cell_type": "code",
   "execution_count": 40,
   "metadata": {},
   "outputs": [
    {
     "data": {
      "text/html": [
       "<div>\n",
       "<style scoped>\n",
       "    .dataframe tbody tr th:only-of-type {\n",
       "        vertical-align: middle;\n",
       "    }\n",
       "\n",
       "    .dataframe tbody tr th {\n",
       "        vertical-align: top;\n",
       "    }\n",
       "\n",
       "    .dataframe thead th {\n",
       "        text-align: right;\n",
       "    }\n",
       "</style>\n",
       "<table border=\"1\" class=\"dataframe\">\n",
       "  <thead>\n",
       "    <tr style=\"text-align: right;\">\n",
       "      <th></th>\n",
       "      <th>playlist_id</th>\n",
       "      <th>playlist_name</th>\n",
       "      <th>playlist_description</th>\n",
       "      <th>playlist_owner</th>\n",
       "      <th>playlist_public</th>\n",
       "    </tr>\n",
       "  </thead>\n",
       "  <tbody>\n",
       "    <tr>\n",
       "      <th>0</th>\n",
       "      <td>2tmzVHK0OfcbWWViZve0B6</td>\n",
       "      <td>Fall 2020</td>\n",
       "      <td></td>\n",
       "      <td>Nicholas Drake</td>\n",
       "      <td>True</td>\n",
       "    </tr>\n",
       "    <tr>\n",
       "      <th>1</th>\n",
       "      <td>79tXL4BD7MnqvpMZtKDho9</td>\n",
       "      <td>Test Python Playlist 2020</td>\n",
       "      <td>This is a test playlist generated by Python</td>\n",
       "      <td>Nicholas Drake</td>\n",
       "      <td>True</td>\n",
       "    </tr>\n",
       "    <tr>\n",
       "      <th>2</th>\n",
       "      <td>5b4Ko7aAOpk8JT9qQnngOy</td>\n",
       "      <td>Pop Punk</td>\n",
       "      <td></td>\n",
       "      <td>Amber Layn Miller</td>\n",
       "      <td>False</td>\n",
       "    </tr>\n",
       "    <tr>\n",
       "      <th>3</th>\n",
       "      <td>0RSKurPBF9Jd2W6zjAw6ZI</td>\n",
       "      <td>Chicago Unite At Night Complete Collection</td>\n",
       "      <td>Chicago nightly sing-along collection during C...</td>\n",
       "      <td>Chicago Unite At Night</td>\n",
       "      <td>False</td>\n",
       "    </tr>\n",
       "    <tr>\n",
       "      <th>4</th>\n",
       "      <td>7w3yeYpdXvclEmxFfsgVNr</td>\n",
       "      <td>Holiday-ish (feat. Dylan Minnette)</td>\n",
       "      <td></td>\n",
       "      <td>Nicholas Drake</td>\n",
       "      <td>True</td>\n",
       "    </tr>\n",
       "  </tbody>\n",
       "</table>\n",
       "</div>"
      ],
      "text/plain": [
       "              playlist_id                                playlist_name  \\\n",
       "0  2tmzVHK0OfcbWWViZve0B6                                    Fall 2020   \n",
       "1  79tXL4BD7MnqvpMZtKDho9                    Test Python Playlist 2020   \n",
       "2  5b4Ko7aAOpk8JT9qQnngOy                                    Pop Punk    \n",
       "3  0RSKurPBF9Jd2W6zjAw6ZI  Chicago Unite At Night Complete Collection    \n",
       "4  7w3yeYpdXvclEmxFfsgVNr           Holiday-ish (feat. Dylan Minnette)   \n",
       "\n",
       "                                playlist_description          playlist_owner  \\\n",
       "0                                                             Nicholas Drake   \n",
       "1        This is a test playlist generated by Python          Nicholas Drake   \n",
       "2                                                          Amber Layn Miller   \n",
       "3  Chicago nightly sing-along collection during C...  Chicago Unite At Night   \n",
       "4                                                             Nicholas Drake   \n",
       "\n",
       "   playlist_public  \n",
       "0             True  \n",
       "1             True  \n",
       "2            False  \n",
       "3            False  \n",
       "4             True  "
      ]
     },
     "execution_count": 40,
     "metadata": {},
     "output_type": "execute_result"
    }
   ],
   "source": [
    "playlist_df = pd.DataFrame(list_dic4)\n",
    "playlist_df.head()"
   ]
  },
  {
   "cell_type": "code",
   "execution_count": 44,
   "metadata": {},
   "outputs": [
    {
     "data": {
      "text/plain": [
       "'79tXL4BD7MnqvpMZtKDho9'"
      ]
     },
     "execution_count": 44,
     "metadata": {},
     "output_type": "execute_result"
    }
   ],
   "source": [
    "playlist_id = playlist_df.loc[playlist_df['playlist_name'] == 'Test Python Playlist 2020', 'playlist_id'].tolist()[0]\n",
    "playlist_id"
   ]
  },
  {
   "cell_type": "markdown",
   "metadata": {},
   "source": [
    "# Post song to playlist"
   ]
  },
  {
   "cell_type": "code",
   "execution_count": null,
   "metadata": {},
   "outputs": [],
   "source": [
    "username = config.username\n",
    "client_id = config.client_id\n",
    "client_secret = config.client_secret\n",
    "redirect_uri = 'http://localhost:7777/callback'\n",
    "scope = 'playlist-modify-public, playlist-modify-private'\n",
    "\n",
    "auth_token = util.prompt_for_user_token(username=username, \n",
    "                                   scope=scope, \n",
    "                                   client_id=client_id,   \n",
    "                                   client_secret=client_secret,     \n",
    "                                   redirect_uri=redirect_uri)"
   ]
  },
  {
   "cell_type": "code",
   "execution_count": null,
   "metadata": {},
   "outputs": [],
   "source": [
    "playlist_id = '79tXL4BD7MnqvpMZtKDho9'\n",
    "base_url = f\"https://api.spotify.com/v1/playlists/{playlist_id}/tracks\"\n",
    "\n",
    "# Must be in list to load into playlist\n",
    "uris = spotify_urls_ls\n",
    "\n",
    "# Authentication\n",
    "# Parameters -- would be stored with authentication\n",
    "headers = {\n",
    "    \"Content-Type\":\"application/json\",\n",
    "    \"Authorization\": f\"Bearer {auth_token}\"\n",
    "}\n",
    "\n",
    "request_body = json.dumps({\n",
    "          \"uris\":uris\n",
    "        })\n",
    "# Make request\n",
    "r = requests.post(url = base_url, data = request_body, headers=headers)\n",
    "r.text"
   ]
  },
  {
   "cell_type": "code",
   "execution_count": null,
   "metadata": {},
   "outputs": [],
   "source": []
  }
 ],
 "metadata": {
  "kernelspec": {
   "display_name": "Python 3",
   "language": "python",
   "name": "python3"
  },
  "language_info": {
   "codemirror_mode": {
    "name": "ipython",
    "version": 3
   },
   "file_extension": ".py",
   "mimetype": "text/x-python",
   "name": "python",
   "nbconvert_exporter": "python",
   "pygments_lexer": "ipython3",
   "version": "3.6.8"
  }
 },
 "nbformat": 4,
 "nbformat_minor": 4
}
