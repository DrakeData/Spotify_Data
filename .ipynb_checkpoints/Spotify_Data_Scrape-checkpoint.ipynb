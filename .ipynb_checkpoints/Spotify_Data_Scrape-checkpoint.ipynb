{
 "cells": [
  {
   "cell_type": "markdown",
   "metadata": {},
   "source": [
    "![spotify_logo](images/spotify_logo2.1.png)"
   ]
  },
  {
   "cell_type": "markdown",
   "metadata": {},
   "source": [
    "# Spotify API Scrape"
   ]
  },
  {
   "cell_type": "markdown",
   "metadata": {},
   "source": [
    "## Project Goal\n",
    "1. Pull most recently played tracks\n",
    "2. Pull top listen to tracks\n",
    "\n",
    "## Helpful Links:\n",
    "- [Spotify Web API - Authorization Guide](https://developer.spotify.com/documentation/general/guides/authorization-guide/)\n",
    "- [Spotify API References](https://developer.spotify.com/documentation/web-api/reference/)"
   ]
  },
  {
   "cell_type": "code",
   "execution_count": 1,
   "metadata": {},
   "outputs": [],
   "source": [
    "import config\n",
    "import os\n",
    "import requests\n",
    "import json\n",
    "from json import JSONEncoder\n",
    "import pandas as pd\n",
    "from datetime import datetime,timezone, timedelta\n",
    "from tqdm import tqdm\n",
    "import numpy as np\n",
    "import spotipy\n",
    "from spotipy.oauth2 import SpotifyOAuth\n",
    "import base64\n",
    "from urllib.parse import urlencode\n",
    "\n",
    "import pytz\n",
    "import spotipy\n",
    "from spotipy.oauth2 import SpotifyClientCredentials\n",
    "import spotipy.util as util\n",
    "import xlsxwriter\n",
    "from tzlocal import get_localzone\n",
    "import dateutil"
   ]
  },
  {
   "cell_type": "code",
   "execution_count": 2,
   "metadata": {},
   "outputs": [
    {
     "data": {
      "text/plain": [
       "'Spotify_Export_20200824.xlsx'"
      ]
     },
     "execution_count": 2,
     "metadata": {},
     "output_type": "execute_result"
    }
   ],
   "source": [
    "# Create the file name we will be exporting later\n",
    "today = datetime.today().strftime('%Y%m%d')\n",
    "file_name = f\"Spotify_Export_{today}.xlsx\"\n",
    "file_name"
   ]
  },
  {
   "cell_type": "markdown",
   "metadata": {},
   "source": [
    "## Step 1: Get Access Token"
   ]
  },
  {
   "cell_type": "code",
   "execution_count": 3,
   "metadata": {},
   "outputs": [],
   "source": [
    "client_id = config.client_id\n",
    "client_secret = config.client_secret\n",
    "username = config.username"
   ]
  },
  {
   "cell_type": "code",
   "execution_count": null,
   "metadata": {},
   "outputs": [],
   "source": [
    "username = config.username\n",
    "client_id = config.client_id\n",
    "client_secret = config.client_secret\n",
    "redirect_uri = 'http://localhost:7777/callback'\n",
    "scope = 'user-read-recently-played'\n",
    "\n",
    "auth_token = util.prompt_for_user_token(username=username, \n",
    "                                   scope=scope, \n",
    "                                   client_id=client_id,   \n",
    "                                   client_secret=client_secret,     \n",
    "                                   redirect_uri=redirect_uri)"
   ]
  },
  {
   "cell_type": "markdown",
   "metadata": {},
   "source": [
    "## Step 2: Pull Recently Played"
   ]
  },
  {
   "cell_type": "code",
   "execution_count": null,
   "metadata": {},
   "outputs": [],
   "source": [
    "base_url = 'https://api.spotify.com/v1/me/player/recently-played?'\n",
    "#track_id = '6y0igZArWVi6Iz0rj35c1Y'\n",
    "\n",
    "#2. Authentication\n",
    "#3. Parameters -- would be stored with authentication\n",
    "headers = {\n",
    "    \"Authorization\": f\"Bearer {auth_token}\"\n",
    "}\n",
    "\n",
    "#4. Create an empty list\n",
    "personal_data = [] #would be good explore how to capture data at different points in time\n",
    "r = requests.get(base_url+\"&limit=50\", headers=headers)\n",
    "personal_data.append(json.loads(r.text))"
   ]
  },
  {
   "cell_type": "code",
   "execution_count": null,
   "metadata": {},
   "outputs": [],
   "source": [
    "personal_data[0]['items'][3]['track']['artists'][0]['id']"
   ]
  },
  {
   "cell_type": "code",
   "execution_count": null,
   "metadata": {},
   "outputs": [],
   "source": [
    "track_ids = []\n",
    "album_ids = []\n",
    "artist_ids = []\n",
    "album_names = []\n",
    "artist_names = []\n",
    "track_names = []\n",
    "popularity_ls = []\n",
    "played_ats = []\n",
    "\n",
    "for i in range(len(personal_data[0]['items'])):\n",
    "    track_ids.append(personal_data[0]['items'][i]['track']['id']) # Track ID\n",
    "    album_ids.append(personal_data[0]['items'][i]['track']['album']['id']) # Albumn ID\n",
    "    artist_ids.append(personal_data[0]['items'][i]['track']['artists'][0]['id']) # Artist ID\n",
    "    album_names.append(personal_data[0]['items'][i]['track']['album']['name']) # Album Name\n",
    "    artist_names.append(personal_data[0]['items'][i]['track']['artists'][0]['name']) # Artist Name\n",
    "    track_names.append(personal_data[0]['items'][i]['track']['name']) # Track Name\n",
    "    popularity_ls.append(personal_data[0]['items'][i]['track']['popularity']) # Track Popularity\n",
    "    played_ats.append(personal_data[0]['items'][i]['played_at'])"
   ]
  },
  {
   "cell_type": "code",
   "execution_count": null,
   "metadata": {},
   "outputs": [],
   "source": [
    "list_dic={'track_id':track_ids,\n",
    "          'album_id':album_ids,\n",
    "          'artist_id':artist_ids,\n",
    "          'track_name':track_names,\n",
    "          'artist_name':artist_names,\n",
    "          'album_name':album_names,\n",
    "          'track_popularity':popularity_ls,\n",
    "          'time_palyed': played_ats\n",
    "    }"
   ]
  },
  {
   "cell_type": "code",
   "execution_count": null,
   "metadata": {},
   "outputs": [],
   "source": [
    "df1=pd.DataFrame(list_dic)\n",
    "df1"
   ]
  },
  {
   "cell_type": "code",
   "execution_count": null,
   "metadata": {},
   "outputs": [],
   "source": [
    "# Create empty column to append data to\n",
    "df1['local_time'] = ''\n",
    "\n",
    "for i in range(len(personal_data[0]['items'])):\n",
    "    # Convert UTC to local time zone\n",
    "    utc_time = dateutil.parser.parse(df1['time_palyed'].iloc[i]).astimezone(get_localzone())\n",
    "    # Format date/time\n",
    "    local_time= utc_time.strftime('%Y-%m-%d %H:%M:%S')\n",
    "    local_time\n",
    "    \n",
    "    df1['local_time'].iloc[i] = local_time"
   ]
  },
  {
   "cell_type": "code",
   "execution_count": null,
   "metadata": {},
   "outputs": [],
   "source": [
    "df1.head()"
   ]
  },
  {
   "cell_type": "code",
   "execution_count": null,
   "metadata": {},
   "outputs": [],
   "source": [
    "writer = pd.ExcelWriter(file_name)\n",
    "df1.to_excel(writer,'recently_played')"
   ]
  },
  {
   "cell_type": "markdown",
   "metadata": {},
   "source": [
    "## Step 3: Pull User's Top Artists & Tracks"
   ]
  },
  {
   "cell_type": "code",
   "execution_count": null,
   "metadata": {},
   "outputs": [],
   "source": [
    "username = config.username\n",
    "client_id = config.client_id\n",
    "client_secret = config.client_secret\n",
    "redirect_uri = 'http://localhost:7777/callback'\n",
    "scope = 'user-top-read'\n",
    "\n",
    "auth_token = util.prompt_for_user_token(username=username, \n",
    "                                   scope=scope, \n",
    "                                   client_id=client_id,   \n",
    "                                   client_secret=client_secret,     \n",
    "                                   redirect_uri=redirect_uri)"
   ]
  },
  {
   "cell_type": "code",
   "execution_count": null,
   "metadata": {},
   "outputs": [],
   "source": [
    "base_url = 'https://api.spotify.com/v1/me/top/tracks?'\n",
    "#track_id = '6y0igZArWVi6Iz0rj35c1Y'\n",
    "\n",
    "#2. Authentication\n",
    "#3. Parameters -- would be stored with authentication\n",
    "headers = {\n",
    "    \"Authorization\": f\"Bearer {auth_token}\"\n",
    "}\n",
    "\n",
    "#4. Create an empty list\n",
    "top_track_data = [] #would be good explore how to capture data at different points in time\n",
    "r = requests.get(base_url+\"time_range=medium_term\"+\"&&limit=50\", headers=headers)\n",
    "top_track_data.append(json.loads(r.text))"
   ]
  },
  {
   "cell_type": "code",
   "execution_count": null,
   "metadata": {},
   "outputs": [],
   "source": [
    "track_idss = []\n",
    "album_idss = []\n",
    "artist_idss = []\n",
    "album_namess = []\n",
    "album_relase_datess = []\n",
    "artist_namess = []\n",
    "popularity_lss = []\n",
    "track_namess = []\n",
    "\n",
    "for i in range(len(top_track_data[0]['items'])):\n",
    "    track_idss.append(top_track_data[0]['items'][i]['id']) # Track ID\n",
    "    album_idss.append(top_track_data[0]['items'][i]['album']['id']) # Album ID\n",
    "    artist_idss.append(top_track_data[0]['items'][i]['album']['artists'][0]['id'])\n",
    "    album_namess.append(top_track_data[0]['items'][i]['album']['name']) # Album Name\n",
    "    album_relase_datess.append(top_track_data[0]['items'][i]['album']['release_date'])\n",
    "    artist_namess.append(top_track_data[0]['items'][i]['album']['artists'][0]['name']) # Artist Name\n",
    "    popularity_lss.append(top_track_data[0]['items'][i]['popularity'])\n",
    "    track_namess.append(top_track_data[0]['items'][i]['name']) # Track Name"
   ]
  },
  {
   "cell_type": "code",
   "execution_count": null,
   "metadata": {},
   "outputs": [],
   "source": [
    "list_dic2={'track_id':track_idss,\n",
    "           'album_id':album_idss,\n",
    "           'artist_id':artist_idss,\n",
    "           'track_name':track_namess,\n",
    "           'album_name':album_namess,\n",
    "           'artist_name':artist_namess,\n",
    "           'track_popularity':popularity_lss,\n",
    "           'album_relase_date':album_relase_datess,\n",
    "    }"
   ]
  },
  {
   "cell_type": "code",
   "execution_count": null,
   "metadata": {
    "scrolled": true
   },
   "outputs": [],
   "source": [
    "df2=pd.DataFrame(list_dic2)\n",
    "df2"
   ]
  },
  {
   "cell_type": "markdown",
   "metadata": {},
   "source": [
    "## Step 4: Pull Track Info\n",
    "- API Doc: https://developer.spotify.com/documentation/web-api/reference/tracks/get-audio-analysis/"
   ]
  },
  {
   "cell_type": "code",
   "execution_count": null,
   "metadata": {},
   "outputs": [],
   "source": [
    "# Create list of track_ids\n",
    "track_id_ls = df2['track_id'].tolist()"
   ]
  },
  {
   "cell_type": "code",
   "execution_count": null,
   "metadata": {},
   "outputs": [],
   "source": [
    "track_data = []\n",
    "for id in tqdm(track_id_ls):\n",
    "    base_url = f'https://api.spotify.com/v1/audio-features/{id}?'\n",
    "\n",
    "    #2. Authentication\n",
    "    #3. Parameters -- would be stored with authentication\n",
    "    headers = {\n",
    "        \"Authorization\": f\"Bearer {auth_token}\"\n",
    "    }\n",
    "\n",
    "    r = requests.get(base_url, headers=headers)\n",
    "    track_data.append(json.loads(r.text))"
   ]
  },
  {
   "cell_type": "code",
   "execution_count": null,
   "metadata": {},
   "outputs": [],
   "source": [
    "track_df = pd.json_normalize(track_data)\n",
    "track_df.head()"
   ]
  },
  {
   "cell_type": "markdown",
   "metadata": {},
   "source": [
    "## Step 5: Pull Artist Info\n",
    "- [Artist Endpoint Documentation](https://developer.spotify.com/documentation/web-api/reference/artists/get-artist/)"
   ]
  },
  {
   "cell_type": "code",
   "execution_count": null,
   "metadata": {},
   "outputs": [],
   "source": [
    "# Creating a uniqe list artist ids\n",
    "artist_id_ls = df2['artist_id'].tolist()\n",
    "artist_id_ls = list(dict.fromkeys(artist_id_ls))\n",
    "\n",
    "artist_id_ls"
   ]
  },
  {
   "cell_type": "code",
   "execution_count": null,
   "metadata": {},
   "outputs": [],
   "source": [
    "artist_data = []\n",
    "\n",
    "for a_id in tqdm(artist_id_ls):\n",
    "    base_url = f'https://api.spotify.com/v1/artists/{a_id}?'\n",
    "    # example artist_id = '06HL4z0CvFAxyc27GXpf02'\n",
    "\n",
    "    #2. Authentication\n",
    "    #3. Parameters -- would be stored with authentication\n",
    "    headers = {\n",
    "        \"Authorization\": f\"Bearer {auth_token}\"\n",
    "    }\n",
    "\n",
    "    #4. Create an empty list\n",
    "    r = requests.get(base_url, headers=headers)\n",
    "    artist_data.append(json.loads(r.text))"
   ]
  },
  {
   "cell_type": "code",
   "execution_count": null,
   "metadata": {},
   "outputs": [],
   "source": [
    "artist_data"
   ]
  },
  {
   "cell_type": "code",
   "execution_count": null,
   "metadata": {},
   "outputs": [],
   "source": [
    "len(artist_data[7]['genres'])"
   ]
  },
  {
   "cell_type": "code",
   "execution_count": null,
   "metadata": {},
   "outputs": [],
   "source": [
    "artist_id_ls = []\n",
    "artist_followers_ls = []\n",
    "artist_genres_ls = []\n",
    "artist_name_ls = []\n",
    "artist_popularity_ls = []\n",
    "\n",
    "for i in tqdm(range(len(artist_data))):\n",
    "    artist_id_ls.append(artist_data[i]['id'])\n",
    "    artist_followers_ls.append(artist_data[i]['followers']['total'])\n",
    "    artist_name_ls.append(artist_data[i]['name'])\n",
    "    artist_popularity_ls.append(artist_data[i]['popularity'])\n",
    "    \n",
    "    if len(artist_data[i]['genres']) > 0:\n",
    "        artist_genres_ls.append(artist_data[i]['genres'][0])\n",
    "    else:\n",
    "        artist_genres_ls.append('not listed')"
   ]
  },
  {
   "cell_type": "code",
   "execution_count": null,
   "metadata": {},
   "outputs": [],
   "source": [
    "list_dic3={'artist_id':artist_id_ls,\n",
    "           'artist_followers':artist_followers_ls,\n",
    "           'artist_genres':artist_genres_ls,\n",
    "           'artist_name':artist_name_ls,\n",
    "           'artist_popularity':artist_popularity_ls\n",
    "    }"
   ]
  },
  {
   "cell_type": "code",
   "execution_count": null,
   "metadata": {},
   "outputs": [],
   "source": [
    "artist_df = pd.DataFrame(list_dic3)\n",
    "artist_df"
   ]
  },
  {
   "cell_type": "markdown",
   "metadata": {},
   "source": [
    "## Clean Up Track Data"
   ]
  },
  {
   "cell_type": "markdown",
   "metadata": {},
   "source": [
    "## Update 'mode' to tell if track is major or minor"
   ]
  },
  {
   "cell_type": "code",
   "execution_count": null,
   "metadata": {},
   "outputs": [],
   "source": [
    "mod_dict = {0 : 'Minor',\n",
    "            1: 'Major'}"
   ]
  },
  {
   "cell_type": "code",
   "execution_count": null,
   "metadata": {},
   "outputs": [],
   "source": [
    "track_df['mode'].replace(mod_dict, inplace=True)"
   ]
  },
  {
   "cell_type": "markdown",
   "metadata": {},
   "source": [
    "## Update \"key\" to tell the actually key"
   ]
  },
  {
   "cell_type": "code",
   "execution_count": null,
   "metadata": {},
   "outputs": [],
   "source": [
    "music_dic = {\n",
    "    0: 'C',\n",
    "    1: 'C#/Db',\n",
    "    2: 'D',\n",
    "    3: 'D#/Eb',\n",
    "    4: 'E',\n",
    "    5: 'F',\n",
    "    6: 'F#/Gb',\n",
    "    7: 'G',\n",
    "    8: 'G#/Ab',\n",
    "    9: 'A',\n",
    "    10: 'A#/Bb',\n",
    "    11: 'B' \n",
    "}"
   ]
  },
  {
   "cell_type": "code",
   "execution_count": null,
   "metadata": {},
   "outputs": [],
   "source": [
    "track_df['key'].replace(music_dic, inplace=True)"
   ]
  },
  {
   "cell_type": "markdown",
   "metadata": {},
   "source": [
    "## Add column duration in minutes/seconds"
   ]
  },
  {
   "cell_type": "code",
   "execution_count": null,
   "metadata": {},
   "outputs": [],
   "source": [
    "track_df['track_duration'] = ''\n",
    "\n",
    "for i in range(len(track_df['id'])):\n",
    "    millis=track_df['duration_ms'].iloc[i]\n",
    "    track_df['track_duration'].iloc[i] = pd.to_datetime(millis, unit='ms').strftime('%H:%M:%S')"
   ]
  },
  {
   "cell_type": "markdown",
   "metadata": {},
   "source": [
    "## Rename track id column"
   ]
  },
  {
   "cell_type": "code",
   "execution_count": null,
   "metadata": {},
   "outputs": [],
   "source": [
    "track_df=track_df.rename(columns = {'id':'track_id'})\n",
    "track_df.head()                     "
   ]
  },
  {
   "cell_type": "markdown",
   "metadata": {},
   "source": [
    "# Create Master Dataframe"
   ]
  },
  {
   "cell_type": "code",
   "execution_count": null,
   "metadata": {},
   "outputs": [],
   "source": [
    "master_df = pd.merge(df2, track_df,\n",
    "                       how='left', on=['track_id'])"
   ]
  },
  {
   "cell_type": "code",
   "execution_count": null,
   "metadata": {},
   "outputs": [],
   "source": [
    "master_df.head(10)"
   ]
  },
  {
   "cell_type": "code",
   "execution_count": null,
   "metadata": {},
   "outputs": [],
   "source": [
    "master_df.to_excel(writer,'top_tracks')"
   ]
  },
  {
   "cell_type": "markdown",
   "metadata": {},
   "source": [
    "# Create Excel File"
   ]
  },
  {
   "cell_type": "code",
   "execution_count": null,
   "metadata": {},
   "outputs": [],
   "source": [
    "current_directory = os.path.abspath(os.getcwd())"
   ]
  },
  {
   "cell_type": "code",
   "execution_count": null,
   "metadata": {},
   "outputs": [],
   "source": [
    "export_file_path = os.path.join(current_directory, 'spotify_export_files', file_name)"
   ]
  },
  {
   "cell_type": "code",
   "execution_count": null,
   "metadata": {},
   "outputs": [],
   "source": [
    "# Create a Pandas Excel writer using XlsxWriter as the engine.\n",
    "writer = pd.ExcelWriter(export_file_path, engine='xlsxwriter')\n",
    "\n",
    "# Convert the dataframe to an XlsxWriter Excel object.\n",
    "df1.to_excel(writer,'recently_played', index=False)\n",
    "master_df.to_excel(writer,'top_tracks',index=False)\n",
    "\n",
    "# Get the xlsxwriter workbook and worksheet objects.\n",
    "workbook  = writer.book\n",
    "worksheet1 = writer.sheets['recently_played']\n",
    "worksheet2 = writer.sheets['top_tracks']\n",
    "\n",
    "\n",
    "for i, col in enumerate(master_df.columns):\n",
    "    # find length of column i\n",
    "    column_len = master_df[col].astype(str).str.len().max()\n",
    "    # Setting the length if the column header is larger\n",
    "    # than the max column value length\n",
    "    column_len = max(column_len, len(col)) + 2\n",
    "    \n",
    "    # set the column length\n",
    "    worksheet1.set_column(i, i, column_len)\n",
    "    \n",
    "for i, col in enumerate(df1.columns):\n",
    "    # find length of column i\n",
    "    column_len = df1[col].astype(str).str.len().max()\n",
    "    # Setting the length if the column header is larger\n",
    "    # than the max column value length\n",
    "    column_len = max(column_len, len(col)) + 2\n",
    "    \n",
    "    # set the column length\n",
    "    worksheet2.set_column(i, i, column_len)\n",
    "\n",
    "writer.save()"
   ]
  },
  {
   "cell_type": "markdown",
   "metadata": {},
   "source": [
    "# Create Playlist"
   ]
  },
  {
   "cell_type": "code",
   "execution_count": 14,
   "metadata": {},
   "outputs": [],
   "source": [
    "username = config.username\n",
    "client_id = config.client_id\n",
    "client_secret = config.client_secret\n",
    "redirect_uri = 'http://localhost:7777/callback'\n",
    "scope = 'playlist-modify-private'\n",
    "\n",
    "auth_token = util.prompt_for_user_token(username=username, \n",
    "                                   scope=scope, \n",
    "                                   client_id=client_id,   \n",
    "                                   client_secret=client_secret,     \n",
    "                                   redirect_uri=redirect_uri)"
   ]
  },
  {
   "cell_type": "code",
   "execution_count": 16,
   "metadata": {},
   "outputs": [
    {
     "data": {
      "text/plain": [
       "'{\\n  \"collaborative\" : false,\\n  \"description\" : \"This is a test playlist generated by Python\",\\n  \"external_urls\" : {\\n    \"spotify\" : \"https://open.spotify.com/playlist/79tXL4BD7MnqvpMZtKDho9\"\\n  },\\n  \"followers\" : {\\n    \"href\" : null,\\n    \"total\" : 0\\n  },\\n  \"href\" : \"https://api.spotify.com/v1/playlists/79tXL4BD7MnqvpMZtKDho9\",\\n  \"id\" : \"79tXL4BD7MnqvpMZtKDho9\",\\n  \"images\" : [ ],\\n  \"name\" : \"Test Python Playlist\",\\n  \"owner\" : {\\n    \"display_name\" : \"Nicholas Drake\",\\n    \"external_urls\" : {\\n      \"spotify\" : \"https://open.spotify.com/user/1221014369\"\\n    },\\n    \"href\" : \"https://api.spotify.com/v1/users/1221014369\",\\n    \"id\" : \"1221014369\",\\n    \"type\" : \"user\",\\n    \"uri\" : \"spotify:user:1221014369\"\\n  },\\n  \"primary_color\" : null,\\n  \"public\" : false,\\n  \"snapshot_id\" : \"MSw2ZGQ2OWQ2YzMwZDA5MzFjN2Q4N2JhMmViYTM5NTVjMzI5YmU4OWMz\",\\n  \"tracks\" : {\\n    \"href\" : \"https://api.spotify.com/v1/playlists/79tXL4BD7MnqvpMZtKDho9/tracks\",\\n    \"items\" : [ ],\\n    \"limit\" : 100,\\n    \"next\" : null,\\n    \"offset\" : 0,\\n    \"previous\" : null,\\n    \"total\" : 0\\n  },\\n  \"type\" : \"playlist\",\\n  \"uri\" : \"spotify:playlist:79tXL4BD7MnqvpMZtKDho9\"\\n}'"
      ]
     },
     "execution_count": 16,
     "metadata": {},
     "output_type": "execute_result"
    }
   ],
   "source": [
    "base_url = f'https://api.spotify.com/v1/users/{username}/playlists'\n",
    "\n",
    "#2. Authentication\n",
    "#3. Parameters -- would be stored with authentication\n",
    "headers = {\n",
    "    \"Content-Type\":\"application/json\",\n",
    "    \"Authorization\": f\"Bearer {auth_token}\"\n",
    "}\n",
    "\n",
    "request_body = json.dumps({\n",
    "          \"name\": \"Test Python Playlist\",\n",
    "          \"description\": \"This is a test playlist generated by Python\",\n",
    "          \"public\": False # private\n",
    "        })\n",
    "#4. Create an empty list\n",
    "r = requests.post(url = base_url, data = request_body, headers=headers)\n",
    "r.text"
   ]
  },
  {
   "cell_type": "markdown",
   "metadata": {},
   "source": [
    "# Pull Playlist ID"
   ]
  },
  {
   "cell_type": "code",
   "execution_count": 22,
   "metadata": {},
   "outputs": [],
   "source": [
    "username = config.username\n",
    "client_id = config.client_id\n",
    "client_secret = config.client_secret\n",
    "redirect_uri = 'http://localhost:7777/callback'\n",
    "scope = 'playlist-read-private'\n",
    "\n",
    "auth_token = util.prompt_for_user_token(username=username, \n",
    "                                   scope=scope, \n",
    "                                   client_id=client_id,   \n",
    "                                   client_secret=client_secret,     \n",
    "                                   redirect_uri=redirect_uri)"
   ]
  },
  {
   "cell_type": "code",
   "execution_count": 23,
   "metadata": {},
   "outputs": [],
   "source": [
    "base_url = f'https://api.spotify.com/v1/users/{username}/playlists?'\n",
    "\n",
    "#2. Authentication\n",
    "#3. Parameters -- would be stored with authentication\n",
    "headers = {\n",
    "    \"Authorization\": f\"Bearer {auth_token}\"\n",
    "}\n",
    "\n",
    "#4. Create an empty list\n",
    "personal_playlist_data = [] #would be good explore how to capture data at different points in time\n",
    "r = requests.get(base_url+\"&limit=50\", headers=headers)\n",
    "personal_playlist_data.append(json.loads(r.text))"
   ]
  },
  {
   "cell_type": "code",
   "execution_count": 24,
   "metadata": {},
   "outputs": [],
   "source": [
    "playlist_ids = []\n",
    "playlist_names = []\n",
    "playlist_descriptions = []\n",
    "playlist_owners = []\n",
    "playlist_publics = []\n",
    "\n",
    "for i in range(len(personal_playlist_data[0]['items'])):\n",
    "    playlist_ids.append(personal_playlist_data[0]['items'][i]['id'])\n",
    "    playlist_names.append(personal_playlist_data[0]['items'][i]['name'])\n",
    "    playlist_descriptions.append(personal_playlist_data[0]['items'][i]['description'])\n",
    "    playlist_owners.append(personal_playlist_data[0]['items'][i]['owner']['display_name'])\n",
    "    playlist_publics.append(personal_playlist_data[0]['items'][i]['public'])"
   ]
  },
  {
   "cell_type": "code",
   "execution_count": 25,
   "metadata": {},
   "outputs": [],
   "source": [
    "list_dic4={'playlist_id':playlist_ids,\n",
    "           'playlist_name':playlist_names,\n",
    "           'playlist_description':playlist_descriptions,\n",
    "           'playlist_owner':playlist_owners,\n",
    "           'playlist_public':playlist_publics\n",
    "    }"
   ]
  },
  {
   "cell_type": "code",
   "execution_count": 26,
   "metadata": {},
   "outputs": [
    {
     "data": {
      "text/html": [
       "<div>\n",
       "<style scoped>\n",
       "    .dataframe tbody tr th:only-of-type {\n",
       "        vertical-align: middle;\n",
       "    }\n",
       "\n",
       "    .dataframe tbody tr th {\n",
       "        vertical-align: top;\n",
       "    }\n",
       "\n",
       "    .dataframe thead th {\n",
       "        text-align: right;\n",
       "    }\n",
       "</style>\n",
       "<table border=\"1\" class=\"dataframe\">\n",
       "  <thead>\n",
       "    <tr style=\"text-align: right;\">\n",
       "      <th></th>\n",
       "      <th>playlist_id</th>\n",
       "      <th>playlist_name</th>\n",
       "      <th>playlist_description</th>\n",
       "      <th>playlist_owner</th>\n",
       "      <th>playlist_public</th>\n",
       "    </tr>\n",
       "  </thead>\n",
       "  <tbody>\n",
       "    <tr>\n",
       "      <th>0</th>\n",
       "      <td>79tXL4BD7MnqvpMZtKDho9</td>\n",
       "      <td>Test Python Playlist</td>\n",
       "      <td>This is a test playlist generated by Python</td>\n",
       "      <td>Nicholas Drake</td>\n",
       "      <td>False</td>\n",
       "    </tr>\n",
       "    <tr>\n",
       "      <th>1</th>\n",
       "      <td>5b4Ko7aAOpk8JT9qQnngOy</td>\n",
       "      <td>Pop Punk</td>\n",
       "      <td></td>\n",
       "      <td>Amber Layn Miller</td>\n",
       "      <td>False</td>\n",
       "    </tr>\n",
       "    <tr>\n",
       "      <th>2</th>\n",
       "      <td>0RSKurPBF9Jd2W6zjAw6ZI</td>\n",
       "      <td>Chicago Unite At Night Complete Collection</td>\n",
       "      <td>Chicago nightly sing-along collection during C...</td>\n",
       "      <td>Chicago Unite At Night</td>\n",
       "      <td>False</td>\n",
       "    </tr>\n",
       "    <tr>\n",
       "      <th>3</th>\n",
       "      <td>7w3yeYpdXvclEmxFfsgVNr</td>\n",
       "      <td>Holiday-ish (feat. Dylan Minnette)</td>\n",
       "      <td></td>\n",
       "      <td>Nicholas Drake</td>\n",
       "      <td>True</td>\n",
       "    </tr>\n",
       "    <tr>\n",
       "      <th>4</th>\n",
       "      <td>7fdwWjSOaHB3UBBKAyXZLJ</td>\n",
       "      <td>Bill burr podcasts</td>\n",
       "      <td></td>\n",
       "      <td>cikik_55</td>\n",
       "      <td>False</td>\n",
       "    </tr>\n",
       "    <tr>\n",
       "      <th>5</th>\n",
       "      <td>0MBk2Bd25OyEWe7yW6vIpF</td>\n",
       "      <td>Better Broken 2020</td>\n",
       "      <td></td>\n",
       "      <td>Nicholas Drake</td>\n",
       "      <td>True</td>\n",
       "    </tr>\n",
       "    <tr>\n",
       "      <th>6</th>\n",
       "      <td>5ycrA9agT5sn56R3Kvxai7</td>\n",
       "      <td>New music 2020</td>\n",
       "      <td></td>\n",
       "      <td>Nicholas Drake</td>\n",
       "      <td>True</td>\n",
       "    </tr>\n",
       "    <tr>\n",
       "      <th>7</th>\n",
       "      <td>37i9dQZF1DXaMu9xyX1HzK</td>\n",
       "      <td>Best of the Decade For You</td>\n",
       "      <td>A few of the many great songs from the past 10...</td>\n",
       "      <td>Spotify</td>\n",
       "      <td>False</td>\n",
       "    </tr>\n",
       "    <tr>\n",
       "      <th>8</th>\n",
       "      <td>37i9dQZF1Etf8oXPsj1ctJ</td>\n",
       "      <td>Your Top Songs 2019</td>\n",
       "      <td>The songs you loved most this year, all wrappe...</td>\n",
       "      <td>Spotify</td>\n",
       "      <td>True</td>\n",
       "    </tr>\n",
       "    <tr>\n",
       "      <th>9</th>\n",
       "      <td>5fCA5Smig1o5w6NLav2bF2</td>\n",
       "      <td>Fall Chill: 2019</td>\n",
       "      <td></td>\n",
       "      <td>Nicholas Drake</td>\n",
       "      <td>True</td>\n",
       "    </tr>\n",
       "    <tr>\n",
       "      <th>10</th>\n",
       "      <td>3VXCVe5G3rxhrHgMneInaA</td>\n",
       "      <td>Daily Mix 2 - MADE FOR NICHOLAS:3/28/19</td>\n",
       "      <td></td>\n",
       "      <td>Nicholas Drake</td>\n",
       "      <td>True</td>\n",
       "    </tr>\n",
       "    <tr>\n",
       "      <th>11</th>\n",
       "      <td>21OIDDPL7CKT5JNWKDjCx0</td>\n",
       "      <td>Folk Feels</td>\n",
       "      <td></td>\n",
       "      <td>Jonathon Kamba</td>\n",
       "      <td>False</td>\n",
       "    </tr>\n",
       "    <tr>\n",
       "      <th>12</th>\n",
       "      <td>34oy4HmsJUu3L0MVE5HX1v</td>\n",
       "      <td>Party Mix</td>\n",
       "      <td></td>\n",
       "      <td>Nicholas Drake</td>\n",
       "      <td>True</td>\n",
       "    </tr>\n",
       "    <tr>\n",
       "      <th>13</th>\n",
       "      <td>7qzbkZTdMrbJ66EFpVgTWY</td>\n",
       "      <td>#bumbledick</td>\n",
       "      <td></td>\n",
       "      <td>gprylinski</td>\n",
       "      <td>False</td>\n",
       "    </tr>\n",
       "    <tr>\n",
       "      <th>14</th>\n",
       "      <td>3bF7FtoqhDUpF5QSfp3XKf</td>\n",
       "      <td>#bumblebitch</td>\n",
       "      <td></td>\n",
       "      <td>Nicholas Drake</td>\n",
       "      <td>True</td>\n",
       "    </tr>\n",
       "    <tr>\n",
       "      <th>15</th>\n",
       "      <td>37i9dQZF1EjpY1lyF7yS0O</td>\n",
       "      <td>Your Top Songs 2018</td>\n",
       "      <td>The songs you loved most this year, all wrappe...</td>\n",
       "      <td>Spotify</td>\n",
       "      <td>False</td>\n",
       "    </tr>\n",
       "    <tr>\n",
       "      <th>16</th>\n",
       "      <td>63DvcLPui2JvgoqgL13n2J</td>\n",
       "      <td>Car Ride</td>\n",
       "      <td></td>\n",
       "      <td>Nicholas Drake</td>\n",
       "      <td>True</td>\n",
       "    </tr>\n",
       "    <tr>\n",
       "      <th>17</th>\n",
       "      <td>1uioilWtc6biQNhq3grTQm</td>\n",
       "      <td>Fall Chill 2018</td>\n",
       "      <td></td>\n",
       "      <td>Nicholas Drake</td>\n",
       "      <td>True</td>\n",
       "    </tr>\n",
       "    <tr>\n",
       "      <th>18</th>\n",
       "      <td>3eoJWUN29zQXQGEpqiKQgu</td>\n",
       "      <td>Numb</td>\n",
       "      <td></td>\n",
       "      <td>Nicholas Drake</td>\n",
       "      <td>True</td>\n",
       "    </tr>\n",
       "    <tr>\n",
       "      <th>19</th>\n",
       "      <td>1pR1jtj7WNxj1kbgrQoUpd</td>\n",
       "      <td>Lolla 2018 (Saturday Line-Up)</td>\n",
       "      <td></td>\n",
       "      <td>Nicholas Drake</td>\n",
       "      <td>True</td>\n",
       "    </tr>\n",
       "    <tr>\n",
       "      <th>20</th>\n",
       "      <td>0pTN7hThnGGRkBgbkZwA31</td>\n",
       "      <td>Unfinished Business</td>\n",
       "      <td></td>\n",
       "      <td>Nicholas Drake</td>\n",
       "      <td>True</td>\n",
       "    </tr>\n",
       "    <tr>\n",
       "      <th>21</th>\n",
       "      <td>0umtiKj9wQkgI51SjS2iy2</td>\n",
       "      <td>Daily Mix 1 - MADE FOR NICHOLAS:6/20/18</td>\n",
       "      <td></td>\n",
       "      <td>Nicholas Drake</td>\n",
       "      <td>True</td>\n",
       "    </tr>\n",
       "    <tr>\n",
       "      <th>22</th>\n",
       "      <td>5Yz9bM4mBJg90AonTgzEXK</td>\n",
       "      <td>City Vibs: Chicago</td>\n",
       "      <td></td>\n",
       "      <td>Nicholas Drake</td>\n",
       "      <td>True</td>\n",
       "    </tr>\n",
       "    <tr>\n",
       "      <th>23</th>\n",
       "      <td>5or0o2GNJMgJ4Jpgs3gHZy</td>\n",
       "      <td>Sleepy Time</td>\n",
       "      <td></td>\n",
       "      <td>Timothy Douglas Cruz</td>\n",
       "      <td>False</td>\n",
       "    </tr>\n",
       "    <tr>\n",
       "      <th>24</th>\n",
       "      <td>3nHP7rcTCJX2HOGyNOfwUO</td>\n",
       "      <td>Happy Hour(s)</td>\n",
       "      <td></td>\n",
       "      <td>Nicholas Drake</td>\n",
       "      <td>True</td>\n",
       "    </tr>\n",
       "    <tr>\n",
       "      <th>25</th>\n",
       "      <td>37i9dQZEVXcJXf9fW26JvE</td>\n",
       "      <td>Discover Weekly</td>\n",
       "      <td>Your weekly mixtape of fresh music. Enjoy new ...</td>\n",
       "      <td>Spotify</td>\n",
       "      <td>False</td>\n",
       "    </tr>\n",
       "    <tr>\n",
       "      <th>26</th>\n",
       "      <td>3JvWpMUP1bo9Nllu3qHfj9</td>\n",
       "      <td>College in Review</td>\n",
       "      <td>All the songs that I listen to in the past 4 y...</td>\n",
       "      <td>Nicholas Drake</td>\n",
       "      <td>True</td>\n",
       "    </tr>\n",
       "    <tr>\n",
       "      <th>27</th>\n",
       "      <td>0U0j8qoDKj3GQOYpENoMUR</td>\n",
       "      <td>Nick's Music Memory Bank</td>\n",
       "      <td>Songs based off of Satellite - Guster</td>\n",
       "      <td>Nicholas Drake</td>\n",
       "      <td>False</td>\n",
       "    </tr>\n",
       "    <tr>\n",
       "      <th>28</th>\n",
       "      <td>37i9dQZEVXbxMjQS5GR3V2</td>\n",
       "      <td>Release Radar</td>\n",
       "      <td>Catch all the latest music from artists you fo...</td>\n",
       "      <td>Spotify</td>\n",
       "      <td>False</td>\n",
       "    </tr>\n",
       "    <tr>\n",
       "      <th>29</th>\n",
       "      <td>5QTVEIA8On4fKGYalzmu4k</td>\n",
       "      <td>German Drinking Songs</td>\n",
       "      <td></td>\n",
       "      <td>Nicholas Drake</td>\n",
       "      <td>True</td>\n",
       "    </tr>\n",
       "    <tr>\n",
       "      <th>30</th>\n",
       "      <td>470OMRu1G5VRj5jstJ5Xf7</td>\n",
       "      <td>Summer Sixteen</td>\n",
       "      <td></td>\n",
       "      <td>Timothy Douglas Cruz</td>\n",
       "      <td>True</td>\n",
       "    </tr>\n",
       "    <tr>\n",
       "      <th>31</th>\n",
       "      <td>0zvpBplFuokavr5alUlZXN</td>\n",
       "      <td>Starred</td>\n",
       "      <td></td>\n",
       "      <td>Nicholas Drake</td>\n",
       "      <td>True</td>\n",
       "    </tr>\n",
       "    <tr>\n",
       "      <th>32</th>\n",
       "      <td>372pfZ2Z3fZNIAOMSj3k6D</td>\n",
       "      <td>For The Beautiful One</td>\n",
       "      <td></td>\n",
       "      <td>Nicholas Drake</td>\n",
       "      <td>False</td>\n",
       "    </tr>\n",
       "    <tr>\n",
       "      <th>33</th>\n",
       "      <td>65A3NttpDtnu2VJUwjOued</td>\n",
       "      <td>music that rachael loves</td>\n",
       "      <td></td>\n",
       "      <td>Rachael Stewart</td>\n",
       "      <td>False</td>\n",
       "    </tr>\n",
       "    <tr>\n",
       "      <th>34</th>\n",
       "      <td>1SJtZdbGFxCuEtXyD1mOwu</td>\n",
       "      <td>Liked from Radio</td>\n",
       "      <td></td>\n",
       "      <td>Nicholas Drake</td>\n",
       "      <td>True</td>\n",
       "    </tr>\n",
       "    <tr>\n",
       "      <th>35</th>\n",
       "      <td>3CU7uzHdEfJvKtuV23hLgI</td>\n",
       "      <td>College</td>\n",
       "      <td></td>\n",
       "      <td>Nicholas Drake</td>\n",
       "      <td>True</td>\n",
       "    </tr>\n",
       "    <tr>\n",
       "      <th>36</th>\n",
       "      <td>59ZX9fjYuyuiLIgY4x0bzK</td>\n",
       "      <td>Summer 2013</td>\n",
       "      <td></td>\n",
       "      <td>Nicholas Drake</td>\n",
       "      <td>True</td>\n",
       "    </tr>\n",
       "    <tr>\n",
       "      <th>37</th>\n",
       "      <td>00HIxQ46OnnaYbUpc5M8gJ</td>\n",
       "      <td>New Year's Eve</td>\n",
       "      <td></td>\n",
       "      <td>Nicholas Drake</td>\n",
       "      <td>True</td>\n",
       "    </tr>\n",
       "    <tr>\n",
       "      <th>38</th>\n",
       "      <td>0HpcXvgwE85gCVj4Zufbdm</td>\n",
       "      <td>Conventional Weapons</td>\n",
       "      <td></td>\n",
       "      <td>Nicholas Drake</td>\n",
       "      <td>True</td>\n",
       "    </tr>\n",
       "    <tr>\n",
       "      <th>39</th>\n",
       "      <td>54anMIyQtOIQbWuSoC6cpr</td>\n",
       "      <td>Cali bound (This One Is For You Alexis)</td>\n",
       "      <td></td>\n",
       "      <td>Nicholas Drake</td>\n",
       "      <td>True</td>\n",
       "    </tr>\n",
       "    <tr>\n",
       "      <th>40</th>\n",
       "      <td>749COfa3rff8Enh2wJDHE0</td>\n",
       "      <td>california</td>\n",
       "      <td></td>\n",
       "      <td>Alexis Swanson</td>\n",
       "      <td>True</td>\n",
       "    </tr>\n",
       "    <tr>\n",
       "      <th>41</th>\n",
       "      <td>60glSe8fTebQ7J2VgnLX6H</td>\n",
       "      <td>Christmas!</td>\n",
       "      <td></td>\n",
       "      <td>Alexis Swanson</td>\n",
       "      <td>True</td>\n",
       "    </tr>\n",
       "    <tr>\n",
       "      <th>42</th>\n",
       "      <td>1rFXWhjhuiJluEdTVp1Djo</td>\n",
       "      <td>A Cold December</td>\n",
       "      <td></td>\n",
       "      <td>Nicholas Drake</td>\n",
       "      <td>True</td>\n",
       "    </tr>\n",
       "    <tr>\n",
       "      <th>43</th>\n",
       "      <td>1mqinoC6pulHJI1Gc24n3y</td>\n",
       "      <td>&lt;3</td>\n",
       "      <td></td>\n",
       "      <td>Alexis Swanson</td>\n",
       "      <td>False</td>\n",
       "    </tr>\n",
       "    <tr>\n",
       "      <th>44</th>\n",
       "      <td>2mxVTcNJos74Kk9F3AXCAJ</td>\n",
       "      <td>The Darkest Classical</td>\n",
       "      <td>We're hoping to string you along with some dar...</td>\n",
       "      <td>classifyapp</td>\n",
       "      <td>True</td>\n",
       "    </tr>\n",
       "    <tr>\n",
       "      <th>45</th>\n",
       "      <td>5a8VcOB14gih9xExKyeOyR</td>\n",
       "      <td>Halloween</td>\n",
       "      <td></td>\n",
       "      <td>Nicholas Drake</td>\n",
       "      <td>True</td>\n",
       "    </tr>\n",
       "    <tr>\n",
       "      <th>46</th>\n",
       "      <td>0PXktg9pLFGMYa95GI8hVJ</td>\n",
       "      <td>Standard playlist</td>\n",
       "      <td></td>\n",
       "      <td>Jonathon Kamba</td>\n",
       "      <td>True</td>\n",
       "    </tr>\n",
       "    <tr>\n",
       "      <th>47</th>\n",
       "      <td>2fbrMv5PKHzbT5dcCPAEa3</td>\n",
       "      <td>Homecoming 2012</td>\n",
       "      <td></td>\n",
       "      <td>Nicholas Drake</td>\n",
       "      <td>True</td>\n",
       "    </tr>\n",
       "    <tr>\n",
       "      <th>48</th>\n",
       "      <td>7z9FepRdUfNjOXQnrsnC8i</td>\n",
       "      <td>The 15th Club</td>\n",
       "      <td></td>\n",
       "      <td>Nicholas Drake</td>\n",
       "      <td>False</td>\n",
       "    </tr>\n",
       "    <tr>\n",
       "      <th>49</th>\n",
       "      <td>1Ao08XImlXO8rYugpZoloh</td>\n",
       "      <td>Classy</td>\n",
       "      <td></td>\n",
       "      <td>Nicholas Drake</td>\n",
       "      <td>True</td>\n",
       "    </tr>\n",
       "  </tbody>\n",
       "</table>\n",
       "</div>"
      ],
      "text/plain": [
       "               playlist_id                                playlist_name  \\\n",
       "0   79tXL4BD7MnqvpMZtKDho9                         Test Python Playlist   \n",
       "1   5b4Ko7aAOpk8JT9qQnngOy                                    Pop Punk    \n",
       "2   0RSKurPBF9Jd2W6zjAw6ZI  Chicago Unite At Night Complete Collection    \n",
       "3   7w3yeYpdXvclEmxFfsgVNr           Holiday-ish (feat. Dylan Minnette)   \n",
       "4   7fdwWjSOaHB3UBBKAyXZLJ                           Bill burr podcasts   \n",
       "5   0MBk2Bd25OyEWe7yW6vIpF                           Better Broken 2020   \n",
       "6   5ycrA9agT5sn56R3Kvxai7                               New music 2020   \n",
       "7   37i9dQZF1DXaMu9xyX1HzK                   Best of the Decade For You   \n",
       "8   37i9dQZF1Etf8oXPsj1ctJ                          Your Top Songs 2019   \n",
       "9   5fCA5Smig1o5w6NLav2bF2                             Fall Chill: 2019   \n",
       "10  3VXCVe5G3rxhrHgMneInaA      Daily Mix 2 - MADE FOR NICHOLAS:3/28/19   \n",
       "11  21OIDDPL7CKT5JNWKDjCx0                                   Folk Feels   \n",
       "12  34oy4HmsJUu3L0MVE5HX1v                                    Party Mix   \n",
       "13  7qzbkZTdMrbJ66EFpVgTWY                                  #bumbledick   \n",
       "14  3bF7FtoqhDUpF5QSfp3XKf                                 #bumblebitch   \n",
       "15  37i9dQZF1EjpY1lyF7yS0O                          Your Top Songs 2018   \n",
       "16  63DvcLPui2JvgoqgL13n2J                                     Car Ride   \n",
       "17  1uioilWtc6biQNhq3grTQm                              Fall Chill 2018   \n",
       "18  3eoJWUN29zQXQGEpqiKQgu                                         Numb   \n",
       "19  1pR1jtj7WNxj1kbgrQoUpd                Lolla 2018 (Saturday Line-Up)   \n",
       "20  0pTN7hThnGGRkBgbkZwA31                          Unfinished Business   \n",
       "21  0umtiKj9wQkgI51SjS2iy2      Daily Mix 1 - MADE FOR NICHOLAS:6/20/18   \n",
       "22  5Yz9bM4mBJg90AonTgzEXK                           City Vibs: Chicago   \n",
       "23  5or0o2GNJMgJ4Jpgs3gHZy                                  Sleepy Time   \n",
       "24  3nHP7rcTCJX2HOGyNOfwUO                                Happy Hour(s)   \n",
       "25  37i9dQZEVXcJXf9fW26JvE                              Discover Weekly   \n",
       "26  3JvWpMUP1bo9Nllu3qHfj9                            College in Review   \n",
       "27  0U0j8qoDKj3GQOYpENoMUR                     Nick's Music Memory Bank   \n",
       "28  37i9dQZEVXbxMjQS5GR3V2                                Release Radar   \n",
       "29  5QTVEIA8On4fKGYalzmu4k                        German Drinking Songs   \n",
       "30  470OMRu1G5VRj5jstJ5Xf7                               Summer Sixteen   \n",
       "31  0zvpBplFuokavr5alUlZXN                                      Starred   \n",
       "32  372pfZ2Z3fZNIAOMSj3k6D                        For The Beautiful One   \n",
       "33  65A3NttpDtnu2VJUwjOued                     music that rachael loves   \n",
       "34  1SJtZdbGFxCuEtXyD1mOwu                             Liked from Radio   \n",
       "35  3CU7uzHdEfJvKtuV23hLgI                                      College   \n",
       "36  59ZX9fjYuyuiLIgY4x0bzK                                  Summer 2013   \n",
       "37  00HIxQ46OnnaYbUpc5M8gJ                               New Year's Eve   \n",
       "38  0HpcXvgwE85gCVj4Zufbdm                         Conventional Weapons   \n",
       "39  54anMIyQtOIQbWuSoC6cpr      Cali bound (This One Is For You Alexis)   \n",
       "40  749COfa3rff8Enh2wJDHE0                                   california   \n",
       "41  60glSe8fTebQ7J2VgnLX6H                                   Christmas!   \n",
       "42  1rFXWhjhuiJluEdTVp1Djo                              A Cold December   \n",
       "43  1mqinoC6pulHJI1Gc24n3y                                           <3   \n",
       "44  2mxVTcNJos74Kk9F3AXCAJ                        The Darkest Classical   \n",
       "45  5a8VcOB14gih9xExKyeOyR                                    Halloween   \n",
       "46  0PXktg9pLFGMYa95GI8hVJ                            Standard playlist   \n",
       "47  2fbrMv5PKHzbT5dcCPAEa3                              Homecoming 2012   \n",
       "48  7z9FepRdUfNjOXQnrsnC8i                                The 15th Club   \n",
       "49  1Ao08XImlXO8rYugpZoloh                                       Classy   \n",
       "\n",
       "                                 playlist_description          playlist_owner  \\\n",
       "0         This is a test playlist generated by Python          Nicholas Drake   \n",
       "1                                                           Amber Layn Miller   \n",
       "2   Chicago nightly sing-along collection during C...  Chicago Unite At Night   \n",
       "3                                                              Nicholas Drake   \n",
       "4                                                                    cikik_55   \n",
       "5                                                              Nicholas Drake   \n",
       "6                                                              Nicholas Drake   \n",
       "7   A few of the many great songs from the past 10...                 Spotify   \n",
       "8   The songs you loved most this year, all wrappe...                 Spotify   \n",
       "9                                                              Nicholas Drake   \n",
       "10                                                             Nicholas Drake   \n",
       "11                                                             Jonathon Kamba   \n",
       "12                                                             Nicholas Drake   \n",
       "13                                                                 gprylinski   \n",
       "14                                                             Nicholas Drake   \n",
       "15  The songs you loved most this year, all wrappe...                 Spotify   \n",
       "16                                                             Nicholas Drake   \n",
       "17                                                             Nicholas Drake   \n",
       "18                                                             Nicholas Drake   \n",
       "19                                                             Nicholas Drake   \n",
       "20                                                             Nicholas Drake   \n",
       "21                                                             Nicholas Drake   \n",
       "22                                                             Nicholas Drake   \n",
       "23                                                       Timothy Douglas Cruz   \n",
       "24                                                             Nicholas Drake   \n",
       "25  Your weekly mixtape of fresh music. Enjoy new ...                 Spotify   \n",
       "26  All the songs that I listen to in the past 4 y...          Nicholas Drake   \n",
       "27              Songs based off of Satellite - Guster          Nicholas Drake   \n",
       "28  Catch all the latest music from artists you fo...                 Spotify   \n",
       "29                                                             Nicholas Drake   \n",
       "30                                                       Timothy Douglas Cruz   \n",
       "31                                                             Nicholas Drake   \n",
       "32                                                             Nicholas Drake   \n",
       "33                                                            Rachael Stewart   \n",
       "34                                                             Nicholas Drake   \n",
       "35                                                             Nicholas Drake   \n",
       "36                                                             Nicholas Drake   \n",
       "37                                                             Nicholas Drake   \n",
       "38                                                             Nicholas Drake   \n",
       "39                                                             Nicholas Drake   \n",
       "40                                                             Alexis Swanson   \n",
       "41                                                             Alexis Swanson   \n",
       "42                                                             Nicholas Drake   \n",
       "43                                                             Alexis Swanson   \n",
       "44  We're hoping to string you along with some dar...             classifyapp   \n",
       "45                                                             Nicholas Drake   \n",
       "46                                                             Jonathon Kamba   \n",
       "47                                                             Nicholas Drake   \n",
       "48                                                             Nicholas Drake   \n",
       "49                                                             Nicholas Drake   \n",
       "\n",
       "    playlist_public  \n",
       "0             False  \n",
       "1             False  \n",
       "2             False  \n",
       "3              True  \n",
       "4             False  \n",
       "5              True  \n",
       "6              True  \n",
       "7             False  \n",
       "8              True  \n",
       "9              True  \n",
       "10             True  \n",
       "11            False  \n",
       "12             True  \n",
       "13            False  \n",
       "14             True  \n",
       "15            False  \n",
       "16             True  \n",
       "17             True  \n",
       "18             True  \n",
       "19             True  \n",
       "20             True  \n",
       "21             True  \n",
       "22             True  \n",
       "23            False  \n",
       "24             True  \n",
       "25            False  \n",
       "26             True  \n",
       "27            False  \n",
       "28            False  \n",
       "29             True  \n",
       "30             True  \n",
       "31             True  \n",
       "32            False  \n",
       "33            False  \n",
       "34             True  \n",
       "35             True  \n",
       "36             True  \n",
       "37             True  \n",
       "38             True  \n",
       "39             True  \n",
       "40             True  \n",
       "41             True  \n",
       "42             True  \n",
       "43            False  \n",
       "44             True  \n",
       "45             True  \n",
       "46             True  \n",
       "47             True  \n",
       "48            False  \n",
       "49             True  "
      ]
     },
     "execution_count": 26,
     "metadata": {},
     "output_type": "execute_result"
    }
   ],
   "source": [
    "playlist_df = pd.DataFrame(list_dic4)\n",
    "playlist_df"
   ]
  },
  {
   "cell_type": "markdown",
   "metadata": {},
   "source": [
    "# Post song to playlist"
   ]
  },
  {
   "cell_type": "code",
   "execution_count": 31,
   "metadata": {},
   "outputs": [],
   "source": [
    "username = config.username\n",
    "client_id = config.client_id\n",
    "client_secret = config.client_secret\n",
    "redirect_uri = 'http://localhost:7777/callback'\n",
    "scope = 'playlist-modify-public, playlist-modify-private'\n",
    "\n",
    "auth_token = util.prompt_for_user_token(username=username, \n",
    "                                   scope=scope, \n",
    "                                   client_id=client_id,   \n",
    "                                   client_secret=client_secret,     \n",
    "                                   redirect_uri=redirect_uri)"
   ]
  },
  {
   "cell_type": "code",
   "execution_count": 37,
   "metadata": {},
   "outputs": [
    {
     "data": {
      "text/plain": [
       "'{\\n  \"snapshot_id\" : \"Myw4MzVlNGIzZGU4OGI4NGZkZmI0MTEwODNiNjBiY2YyN2JmNTM2YjMy\"\\n}'"
      ]
     },
     "execution_count": 37,
     "metadata": {},
     "output_type": "execute_result"
    }
   ],
   "source": [
    "playlist_id = '79tXL4BD7MnqvpMZtKDho9'\n",
    "base_url = f\"https://api.spotify.com/v1/playlists/{playlist_id}/tracks\"\n",
    "\n",
    "# Must be in list to load into playlist\n",
    "uris = ['spotify:track:4pvb0WLRcMtbPGmtejJJ6y']\n",
    "\n",
    "# Authentication\n",
    "# Parameters -- would be stored with authentication\n",
    "headers = {\n",
    "    \"Content-Type\":\"application/json\",\n",
    "    \"Authorization\": f\"Bearer {auth_token}\"\n",
    "}\n",
    "\n",
    "request_body = json.dumps({\n",
    "          \"uris\":uris\n",
    "        })\n",
    "# Make request\n",
    "r = requests.post(url = base_url, data = request_body, headers=headers)\n",
    "r.text"
   ]
  },
  {
   "cell_type": "code",
   "execution_count": null,
   "metadata": {},
   "outputs": [],
   "source": []
  }
 ],
 "metadata": {
  "kernelspec": {
   "display_name": "Python 3",
   "language": "python",
   "name": "python3"
  },
  "language_info": {
   "codemirror_mode": {
    "name": "ipython",
    "version": 3
   },
   "file_extension": ".py",
   "mimetype": "text/x-python",
   "name": "python",
   "nbconvert_exporter": "python",
   "pygments_lexer": "ipython3",
   "version": "3.6.8"
  }
 },
 "nbformat": 4,
 "nbformat_minor": 4
}
